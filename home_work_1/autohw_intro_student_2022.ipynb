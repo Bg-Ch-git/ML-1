{
 "cells": [
  {
   "cell_type": "markdown",
   "metadata": {},
   "source": [
    "## Лабораторная работа 1. Введение в ML"
   ]
  },
  {
   "cell_type": "markdown",
   "metadata": {},
   "source": [
    "В этой лабораторной вы:\n",
    "\n",
    "- познакомитесь с базовыми библиотеками для работы с табличными данными — `numpy` и `pandas`\n",
    "- поближе посмотрите на простейшие задачи машинного обучения: классификацию и регрессию\n",
    "- попробуете несколько метрик и поймёте, почему выбор метрики это важно\n",
    "- обучите несколько простых моделей\n",
    "- увидите связь между сложностью модели и переобучением\n",
    "- убедитесь, что без данных всё тлен"
   ]
  },
  {
   "cell_type": "markdown",
   "metadata": {},
   "source": [
    "Загрузка самых базовых библиотек:"
   ]
  },
  {
   "cell_type": "code",
   "execution_count": 1,
   "metadata": {
    "ExecuteTime": {
     "end_time": "2022-09-17T18:14:05.766622Z",
     "start_time": "2022-09-17T18:14:04.455026Z"
    }
   },
   "outputs": [],
   "source": [
    "import numpy as np\n",
    "import pandas as pd\n",
    "import matplotlib.pyplot as plt\n",
    "%matplotlib inline\n",
    "\n",
    "from sklearn.model_selection import train_test_split"
   ]
  },
  {
   "cell_type": "markdown",
   "metadata": {
    "slideshow": {
     "slide_type": "subslide"
    }
   },
   "source": [
    "### [NumPy](https://numpy.org/doc/stable/user/index.html)\n",
    "\n",
    "С 1995 numeric, с 2006 NumPy — «Numerical Python extensions» или просто «NumPy»\n",
    "\n",
    "Возможности библиотеки NumPy:\n",
    "* работать с многомерными массивами (таблицами)\n",
    "* быстро вычислять математические функций на многомерных массивах\n",
    "\n",
    "Ядро пакета NumPy — объект [ndarray](https://docs.scipy.org/doc/numpy/reference/generated/numpy.ndarray.html)\n",
    "\n",
    "**Важные отличия** между NumPy arrays и Python sequences: \n",
    "* NumPy array имеет фиксированную длину, которая определяется в момент его создания (в отличие от Python lists, которые могут расти динамически)\n",
    "* Элементы в NumPy array должны быть одного типа\n",
    "* Можно выполнять операции непосредственно над NumPy arrays\n",
    "\n",
    "**Скорость** NumPy достигается с помощью:\n",
    "* реализации на C\n",
    "* векторизации и броадкастинга (broadcasting). Например, произведение массивов совместимых форм.\n",
    "\n",
    "Теперь давайте разберёмся подробнее и сделаем что-нибудь приятное и полезное в `numpy`!"
   ]
  },
  {
   "cell_type": "markdown",
   "metadata": {
    "slideshow": {
     "slide_type": "subslide"
    }
   },
   "source": [
    "### Индексация"
   ]
  },
  {
   "cell_type": "markdown",
   "metadata": {
    "slideshow": {
     "slide_type": "-"
    }
   },
   "source": [
    "В NumPy работает привычная индексация Python, ура! Включая использование отрицательных индексов и срезов (slices)"
   ]
  },
  {
   "cell_type": "markdown",
   "metadata": {
    "slideshow": {
     "slide_type": "subslide"
    }
   },
   "source": [
    "<div class=\"alert alert-info\">\n",
    "<b>Замечание 1:</b> Индексы и срезы в многомерных массивах не нужно разделять квадратными скобками, \n",
    "т.е. вместо <b>matrix[i][j]</b> нужно использовать <b>matrix[i, j]</b>. Первое тоже работает, но сначала выдаёт строку i, потом элемент j в ней. \n",
    "</div>"
   ]
  },
  {
   "cell_type": "markdown",
   "metadata": {
    "slideshow": {
     "slide_type": "-"
    }
   },
   "source": [
    "<div class=\"alert alert-danger\">\n",
    "<b>Замечание 2:</b> Срезы в NumPy создают view, а не копии, как в случае срезов встроенных последовательностей Python (string, tuple and list).\n",
    "</div>"
   ]
  },
  {
   "cell_type": "code",
   "execution_count": 2,
   "metadata": {
    "ExecuteTime": {
     "end_time": "2022-09-13T15:33:11.043354Z",
     "start_time": "2022-09-13T15:33:11.021011Z"
    }
   },
   "outputs": [
    {
     "data": {
      "text/plain": [
       "array([[0., 0., 0.],\n",
       "       [0., 0., 0.],\n",
       "       [0., 0., 0.]])"
      ]
     },
     "execution_count": 2,
     "metadata": {},
     "output_type": "execute_result"
    }
   ],
   "source": [
    "ones_matrix = np.ones((5, 5))\n",
    "ones_submatrix_view = ones_matrix[::2,::2] # creates a view, not copy\n",
    "ones_matrix[::2,::2] = np.zeros((3, 3))\n",
    "ones_submatrix_view"
   ]
  },
  {
   "cell_type": "markdown",
   "metadata": {},
   "source": [
    "### Ссылка на Яндекс.Контест\n",
    "\n",
    "Решения и ответы в задачах, расположенных ниже, загружайте в контест на автоматическую проверку:\n",
    "https://contest.yandex.ru/contest/39295/enter"
   ]
  },
  {
   "cell_type": "markdown",
   "metadata": {},
   "source": [
    "**1. (1 балл)** Реализуйте функцию, принимающую на вход два одномерных массива `first_array` и `second_array` и возвращающую матрицу, в которой первый массив соответствует первому столбцу матрицы, второй — второму.\n",
    "\n",
    "Вероятно первое, что приходит вам на ум, это конкатенация и транспонирование:"
   ]
  },
  {
   "cell_type": "code",
   "execution_count": 3,
   "metadata": {
    "ExecuteTime": {
     "end_time": "2022-09-13T15:34:48.311643Z",
     "start_time": "2022-09-13T15:34:48.298834Z"
    }
   },
   "outputs": [],
   "source": [
    "def construct_matrix(first_array, second_array):\n",
    "    \"\"\"\n",
    "    Construct matrix from pair of arrays\n",
    "    :param first_array: first array\n",
    "    :param second_array: second array\n",
    "    :return: constructed matrix\n",
    "    \"\"\"\n",
    "    return np.vstack([first_array, second_array]).T.reshape((-1, 2)) # <- your first right code here"
   ]
  },
  {
   "cell_type": "code",
   "execution_count": 4,
   "metadata": {
    "ExecuteTime": {
     "end_time": "2022-09-13T15:34:52.015281Z",
     "start_time": "2022-09-13T15:34:51.955119Z"
    },
    "scrolled": true
   },
   "outputs": [
    {
     "data": {
      "text/plain": [
       "array([[1, 3],\n",
       "       [2, 4]])"
      ]
     },
     "execution_count": 4,
     "metadata": {},
     "output_type": "execute_result"
    }
   ],
   "source": [
    "construct_matrix(np.array([1,2]),np.array([3,4]))"
   ]
  },
  {
   "cell_type": "markdown",
   "metadata": {},
   "source": [
    "(в скобках заметим, что конкатенировать можно vertically, horizontally, depth wise методами vstack, hstack, dstack по трём осям (0, 1 и 2, соотвественно), либо в общем случае `np.concatenate` — поиграйтесь ниже с прекрасным примером четырёхмерной точки, чтобы точно всё для себя понять)"
   ]
  },
  {
   "cell_type": "code",
   "execution_count": 6,
   "metadata": {
    "slideshow": {
     "slide_type": "subslide"
    }
   },
   "outputs": [
    {
     "data": {
      "text/plain": [
       "array([[[[0]]]])"
      ]
     },
     "execution_count": 6,
     "metadata": {},
     "output_type": "execute_result"
    }
   ],
   "source": [
    "p = np.arange(1).reshape([1, 1, 1, 1])\n",
    "p"
   ]
  },
  {
   "cell_type": "code",
   "execution_count": 7,
   "metadata": {
    "slideshow": {
     "slide_type": "-"
    }
   },
   "outputs": [
    {
     "name": "stdout",
     "output_type": "stream",
     "text": [
      "vstack:  (2, 1, 1, 1)\n",
      "hstack:  (1, 2, 1, 1)\n",
      "dstack:  (1, 1, 2, 1)\n"
     ]
    }
   ],
   "source": [
    "print(\"vstack: \", np.vstack((p, p)).shape)\n",
    "print(\"hstack: \", np.hstack((p, p)).shape)\n",
    "print(\"dstack: \", np.dstack((p, p)).shape)"
   ]
  },
  {
   "cell_type": "code",
   "execution_count": 8,
   "metadata": {
    "slideshow": {
     "slide_type": "-"
    }
   },
   "outputs": [
    {
     "data": {
      "text/plain": [
       "(1, 1, 1, 2)"
      ]
     },
     "execution_count": 8,
     "metadata": {},
     "output_type": "execute_result"
    }
   ],
   "source": [
    "np.concatenate((p, p), axis=3).shape"
   ]
  },
  {
   "cell_type": "markdown",
   "metadata": {},
   "source": [
    "Но, поскольку операция транспонирования [делает массив non-contiguous](https://numpy.org/doc/stable/user/basics.copies.html#other-operations), мы в этой задаче **запретим** ей пользоваться и порекомедуем воспользоваться, например, методом [reshape](https://numpy.org/doc/stable/reference/generated/numpy.reshape.html)."
   ]
  },
  {
   "cell_type": "markdown",
   "metadata": {},
   "source": [
    "**2. (1 балл)** Реализуйте функцию, принимающую на вход массив целых неотрицательных чисел `nums` и возвращающую самый частый элемент массива."
   ]
  },
  {
   "cell_type": "code",
   "execution_count": 9,
   "metadata": {},
   "outputs": [],
   "source": [
    "def most_frequent(nums):\n",
    "    \"\"\"\n",
    "    Find the most frequent value in an array\n",
    "    :param nums: array of ints\n",
    "    :return: the most frequent value\n",
    "    \"\"\"\n",
    "    return np.argmax(np.bincount(nums))"
   ]
  },
  {
   "cell_type": "markdown",
   "metadata": {},
   "source": [
    "### Переходим к работе с данными\n",
    "\n",
    "Прежде всего, загрузим данные и сделаем из них красивые pandas-таблички. Они взяты из параллели RecSys соревнования https://yandex.ru/cup/ml/. Но мы будем иметь дело не со всеми данными, а только с их частью. Данные у нас будут про заведения общественного питания (больше бюрократический терминологии!)\n",
    "\n",
    "Задачей будет **предсказание среднего чека** (average_bill) по некоторым другим свойствам заведения."
   ]
  },
  {
   "cell_type": "code",
   "execution_count": 2,
   "metadata": {
    "ExecuteTime": {
     "end_time": "2022-09-17T18:14:14.203216Z",
     "start_time": "2022-09-17T18:14:14.199911Z"
    }
   },
   "outputs": [],
   "source": [
    "base = './'"
   ]
  },
  {
   "cell_type": "code",
   "execution_count": 3,
   "metadata": {
    "ExecuteTime": {
     "end_time": "2022-09-17T18:14:15.119651Z",
     "start_time": "2022-09-17T18:14:14.975358Z"
    }
   },
   "outputs": [],
   "source": [
    "data = pd.read_csv(base + 'organisations.csv')\n",
    "features = pd.read_csv(base + 'features.csv')\n",
    "rubrics = pd.read_csv(base + 'rubrics.csv')"
   ]
  },
  {
   "cell_type": "markdown",
   "metadata": {},
   "source": [
    "В основном мы будем работать с табличкой `data`; остальное вам может пригодиться, если вы захотите знать, какое содержание стоит за кодами признаков."
   ]
  },
  {
   "cell_type": "markdown",
   "metadata": {},
   "source": [
    "## Изучение данных"
   ]
  },
  {
   "cell_type": "markdown",
   "metadata": {},
   "source": [
    "Посмотрите на данные. В этом вам поможет метод ``head`` pandas-таблички."
   ]
  },
  {
   "cell_type": "code",
   "execution_count": 7,
   "metadata": {
    "ExecuteTime": {
     "end_time": "2022-09-13T15:35:57.145523Z",
     "start_time": "2022-09-13T15:35:56.983127Z"
    }
   },
   "outputs": [
    {
     "data": {
      "text/html": [
       "<div>\n",
       "<style scoped>\n",
       "    .dataframe tbody tr th:only-of-type {\n",
       "        vertical-align: middle;\n",
       "    }\n",
       "\n",
       "    .dataframe tbody tr th {\n",
       "        vertical-align: top;\n",
       "    }\n",
       "\n",
       "    .dataframe thead th {\n",
       "        text-align: right;\n",
       "    }\n",
       "</style>\n",
       "<table border=\"1\" class=\"dataframe\">\n",
       "  <thead>\n",
       "    <tr style=\"text-align: right;\">\n",
       "      <th></th>\n",
       "      <th>org_id</th>\n",
       "      <th>city</th>\n",
       "      <th>average_bill</th>\n",
       "      <th>rating</th>\n",
       "      <th>rubrics_id</th>\n",
       "      <th>features_id</th>\n",
       "    </tr>\n",
       "  </thead>\n",
       "  <tbody>\n",
       "    <tr>\n",
       "      <th>0</th>\n",
       "      <td>15903868628669802651</td>\n",
       "      <td>msk</td>\n",
       "      <td>1500.0</td>\n",
       "      <td>4.270968</td>\n",
       "      <td>30776 30774</td>\n",
       "      <td>3501685156 3501779478 20422 3502045016 3502045...</td>\n",
       "    </tr>\n",
       "    <tr>\n",
       "      <th>1</th>\n",
       "      <td>16076540698036998306</td>\n",
       "      <td>msk</td>\n",
       "      <td>500.0</td>\n",
       "      <td>4.375000</td>\n",
       "      <td>30771</td>\n",
       "      <td>1509 1082283206 273469383 10462 11617 35017794...</td>\n",
       "    </tr>\n",
       "    <tr>\n",
       "      <th>2</th>\n",
       "      <td>8129364761615040323</td>\n",
       "      <td>msk</td>\n",
       "      <td>500.0</td>\n",
       "      <td>4.000000</td>\n",
       "      <td>31495</td>\n",
       "      <td>10462 11177 11617 11629 1416 1018 11704 11867 ...</td>\n",
       "    </tr>\n",
       "    <tr>\n",
       "      <th>3</th>\n",
       "      <td>15262729117594253452</td>\n",
       "      <td>msk</td>\n",
       "      <td>500.0</td>\n",
       "      <td>4.538813</td>\n",
       "      <td>30776 30770</td>\n",
       "      <td>3501618484 2020795524 11629 11617 1018 11704 2...</td>\n",
       "    </tr>\n",
       "    <tr>\n",
       "      <th>4</th>\n",
       "      <td>13418544315327784420</td>\n",
       "      <td>msk</td>\n",
       "      <td>500.0</td>\n",
       "      <td>4.409091</td>\n",
       "      <td>31495</td>\n",
       "      <td>11617 10462 11177 1416 11867 3501744275 20282 ...</td>\n",
       "    </tr>\n",
       "  </tbody>\n",
       "</table>\n",
       "</div>"
      ],
      "text/plain": [
       "                 org_id city  average_bill    rating   rubrics_id  \\\n",
       "0  15903868628669802651  msk        1500.0  4.270968  30776 30774   \n",
       "1  16076540698036998306  msk         500.0  4.375000        30771   \n",
       "2   8129364761615040323  msk         500.0  4.000000        31495   \n",
       "3  15262729117594253452  msk         500.0  4.538813  30776 30770   \n",
       "4  13418544315327784420  msk         500.0  4.409091        31495   \n",
       "\n",
       "                                         features_id  \n",
       "0  3501685156 3501779478 20422 3502045016 3502045...  \n",
       "1  1509 1082283206 273469383 10462 11617 35017794...  \n",
       "2  10462 11177 11617 11629 1416 1018 11704 11867 ...  \n",
       "3  3501618484 2020795524 11629 11617 1018 11704 2...  \n",
       "4  11617 10462 11177 1416 11867 3501744275 20282 ...  "
      ]
     },
     "execution_count": 7,
     "metadata": {},
     "output_type": "execute_result"
    }
   ],
   "source": [
    "data.head()"
   ]
  },
  {
   "cell_type": "markdown",
   "metadata": {},
   "source": [
    "Полезно посмотреть внимательнее на то, с какими признаками нам предстоит работать.\n",
    "\n",
    "* **org_id** вам не понадобится;\n",
    "* **city** - город, в котором находится заведение (``msk`` или ``spb``);\n",
    "* **average_bill** - средний чек в заведении - он будет нашим таргетом;\n",
    "* **rating** - рейтинг заведения;\n",
    "* **rubrics_id** - тип заведения (или несколько типов). Соответствие кодов каким-то человекочитаемым типам живёт в табличке ``rubrics``\n",
    "* **features_id** - набор неких фичей заведения. Соответствие кодов каким-то человекочитаемым типам живёт в табличке ``features``\n",
    "\n",
    "Обратите внимание, что **rubrics_id** и **features_id** - это не списки, а разделённые пробелами строки. Когда вам захочется работать с отдельными фичами из мешка фичей для данного заведения, вам придётся всё-таки превратить их в списки (здесь поможет метод `split` для строк)."
   ]
  },
  {
   "cell_type": "markdown",
   "metadata": {},
   "source": [
    "Чтобы быстро восстанавливать по рубрикам и фичам их нормальные названия, сделайте словари вида ``код_фичи:название_фичи``"
   ]
  },
  {
   "cell_type": "code",
   "execution_count": 56,
   "metadata": {
    "ExecuteTime": {
     "end_time": "2022-09-17T06:09:31.420735Z",
     "start_time": "2022-09-17T06:09:31.412289Z"
    }
   },
   "outputs": [],
   "source": [
    "rubric_dict = pd.Series(rubrics.rubric_name.values, index=rubrics.rubric_id).to_dict()\n",
    "features_dict = pd.Series(features.feature_name.values, index=features.feature_id).to_dict()"
   ]
  },
  {
   "cell_type": "markdown",
   "metadata": {},
   "source": [
    "Посмотрим, какими бывают типы заведений:"
   ]
  },
  {
   "cell_type": "code",
   "execution_count": 57,
   "metadata": {
    "ExecuteTime": {
     "end_time": "2022-09-17T06:09:33.795863Z",
     "start_time": "2022-09-17T06:09:33.748372Z"
    },
    "scrolled": false
   },
   "outputs": [
    {
     "data": {
      "text/plain": [
       "{1: 'prepress_and_post_printing_processing',\n",
       " 40: 'products',\n",
       " 54: 'printing_method',\n",
       " 77: 'fuel',\n",
       " 79: 'shop',\n",
       " 82: 'last_minute_deals_only',\n",
       " 104: 'tour_type',\n",
       " 110: 'audio_guide',\n",
       " 111: 'cargo_transportation',\n",
       " 113: 'manufacturing',\n",
       " 114: 'installation',\n",
       " 115: 'repairs',\n",
       " 116: 'production',\n",
       " 117: 'sale',\n",
       " 133: 'music_genre',\n",
       " 135: 'electroniccigarette',\n",
       " 137: 'variety_food',\n",
       " 140: 'room_disabled',\n",
       " 175: 'arts',\n",
       " 246: 'karaoke',\n",
       " 249: 'street_theatre',\n",
       " 253: 'performance',\n",
       " 256: 'vip_zone',\n",
       " 270: 'money_transfers',\n",
       " 275: 'loans_private_individuals',\n",
       " 282: 'sober_driver',\n",
       " 288: 'accepted_credit_cards',\n",
       " 305: 'refrigerator',\n",
       " 308: 'minibar',\n",
       " 312: 'room_number',\n",
       " 328: 'speciality',\n",
       " 337: 'type_of_rooms',\n",
       " 344: 'building_repair',\n",
       " 349: 'hospital_profile',\n",
       " 354: 'type_parking',\n",
       " 372: 'services_corporate_clients',\n",
       " 379: 'currency_exchange',\n",
       " 392: 'debit_cards',\n",
       " 402: 'improving_driver_qualifications',\n",
       " 405: 'female_instructor',\n",
       " 409: 'medical_board',\n",
       " 425: 'training_machines',\n",
       " 427: 'target_audience',\n",
       " 433: 'business_lending',\n",
       " 444: 'has_restaurant',\n",
       " 447: 'air_conditioning',\n",
       " 536: 'country',\n",
       " 540: 'online_sales',\n",
       " 542: 'stadium_type',\n",
       " 545: 'car_valeting',\n",
       " 594: 'pro_shop',\n",
       " 598: 'body_repair',\n",
       " 601: 'car_park',\n",
       " 602: 'hair_removal',\n",
       " 636: 'imax',\n",
       " 726: 'cosmetology_services',\n",
       " 790: 'pets',\n",
       " 795: 'hotel_type',\n",
       " 803: 'massage_services',\n",
       " 873: 'leasing_registration',\n",
       " 883: '3d',\n",
       " 956: 'railway_tickets',\n",
       " 962: 'services_specialists',\n",
       " 980: 'trade_in',\n",
       " 983: 'star',\n",
       " 989: 'form_of_training',\n",
       " 995: 'staging_of_dancing_routines',\n",
       " 1018: 'food_delivery',\n",
       " 1054: 'car_wash',\n",
       " 1059: 'additional_services',\n",
       " 1070: 'official_dealer',\n",
       " 1075: 'pool',\n",
       " 1091: 'atm',\n",
       " 1104: 'loan_processing',\n",
       " 1113: 'registration_inspection',\n",
       " 1124: 'car_brand',\n",
       " 1131: 'online_recording',\n",
       " 1246: 'type_of_museum',\n",
       " 1257: 'test_drive',\n",
       " 1261: 'flights',\n",
       " 1271: 'cash_desk',\n",
       " 1413: 'sauna',\n",
       " 1415: 'nursery',\n",
       " 1416: 'type_cuisine',\n",
       " 1509: 'special_menu',\n",
       " 1524: 'type_public_catering',\n",
       " 1572: 'type_waterpark',\n",
       " 1573: 'childrens_town',\n",
       " 1575: 'water_purification_method',\n",
       " 1582: 'water_activities',\n",
       " 1587: 'wave_pool',\n",
       " 1589: 'pool_type',\n",
       " 1592: 'number_of_swimming_lanes',\n",
       " 1600: 'group_classes',\n",
       " 1627: 'gym',\n",
       " 1629: 'sport_game',\n",
       " 1651: 'martial_arts',\n",
       " 1702: 'covering',\n",
       " 1703: 'dance',\n",
       " 1753: 'hairdressing_services',\n",
       " 1783: 'types_of_tanning_beds',\n",
       " 1796: 'figure_correction',\n",
       " 1819: 'nail_procedures',\n",
       " 1840: 'for_children',\n",
       " 1877: 'vehicle_fleet',\n",
       " 1879: 'training_category',\n",
       " 1888: 'holding_of_bowling_tournaments',\n",
       " 1889: 'conducting_pool_tournaments',\n",
       " 1891: 'storage_of_client_pool_equipment',\n",
       " 1892: 'storage_of_client_bowling_equipment',\n",
       " 1893: 'billiard_school',\n",
       " 1894: 'bowling_for_children',\n",
       " 1897: 'bowling_school',\n",
       " 1900: 'wedding_dances',\n",
       " 1903: 'artists_for_events',\n",
       " 1935: 'services_veterinary_clinic',\n",
       " 1937: 'state',\n",
       " 10427: 'price_delivery',\n",
       " 10428: 'hall_capacity',\n",
       " 10429: 'price_hour',\n",
       " 10430: 'time_order',\n",
       " 10434: 'tickets',\n",
       " 10437: 'washing_zones',\n",
       " 10440: 'russian_billiard',\n",
       " 10441: 'track_length',\n",
       " 10442: 'year_of_foundation',\n",
       " 10447: 'kalyan',\n",
       " 10448: 'price_evening',\n",
       " 10449: 'price_per_hour_sauna2',\n",
       " 10450: 'price_taxi',\n",
       " 10451: 'price_per_month3',\n",
       " 10459: 'women_haircut',\n",
       " 10462: 'average_bill2',\n",
       " 10463: 'price_8',\n",
       " 10470: 'hall',\n",
       " 10480: 'cartridge',\n",
       " 10481: 'water_stuff',\n",
       " 10487: 'price_1',\n",
       " 10502: 'pool_backflow',\n",
       " 10506: 'sports_medicine',\n",
       " 10512: 'outfit',\n",
       " 10513: 'baggage_room',\n",
       " 10514: 'skate_rental',\n",
       " 10515: 'skate_sharpening',\n",
       " 10518: 'kids_club',\n",
       " 10556: 'weekend_group',\n",
       " 10557: 'language',\n",
       " 10560: 'door_type',\n",
       " 10563: 'spa',\n",
       " 10564: 'type_food',\n",
       " 10565: 'visa_support',\n",
       " 10580: 'bridal_assortment',\n",
       " 10588: 'laundry',\n",
       " 10596: 'minimum_order',\n",
       " 10597: 'natural_reservoir',\n",
       " 10600: 'admission_by_appointment',\n",
       " 10656: 'wheel_alignment',\n",
       " 10668: 'car_rental',\n",
       " 10669: 'animal_transportation',\n",
       " 10676: 'kindergarden_features',\n",
       " 10718: 'clothes_and_shoe_repairs',\n",
       " 10722: 'beauty_salon',\n",
       " 10744: 'dry_cleaners_',\n",
       " 10746: 'shop_types',\n",
       " 10760: 'regions_of_the_world',\n",
       " 10768: 'home_visit',\n",
       " 10770: 'face_control',\n",
       " 10782: 'auto_sales',\n",
       " 10803: 'goods_for_animals',\n",
       " 10804: 'travel_insurance',\n",
       " 10824: 'training_duration',\n",
       " 10829: 'personal_trainer',\n",
       " 10832: 'exercises_for_pregnant_women',\n",
       " 10833: 'annual_subscription',\n",
       " 10835: 'internet_shop',\n",
       " 10836: 'urgent_printing',\n",
       " 10840: 'vip_taxi',\n",
       " 10843: 'corporate_taxi',\n",
       " 10847: 'child_seat',\n",
       " 10849: 'courier_delivery',\n",
       " 10853: 'ceremonies',\n",
       " 10859: 'airport_and_railway_transfers',\n",
       " 10870: 'dentist_services',\n",
       " 10875: 'show_program',\n",
       " 10886: 'music',\n",
       " 10888: 'chillout',\n",
       " 10894: 'dancefloor',\n",
       " 10896: 'dress_code',\n",
       " 10898: 'for_kids',\n",
       " 10900: 'billiards',\n",
       " 10912: 'delivery_medicines',\n",
       " 10921: 'trampoline',\n",
       " 10966: 'price_per_month2',\n",
       " 11006: 'piercing',\n",
       " 11012: 'cafe',\n",
       " 11022: 'solarium',\n",
       " 11032: 'childrens_fitness',\n",
       " 11082: 'car_polishing',\n",
       " 11097: 'transfer',\n",
       " 11106: 'steam',\n",
       " 11145: 'entertainment',\n",
       " 11165: 'man_haircut',\n",
       " 11167: 'tattoo',\n",
       " 11172: 'shower',\n",
       " 11177: 'breakfast',\n",
       " 11187: 'auto_insurance_type',\n",
       " 11190: 'number_of_halls',\n",
       " 11216: 'pool_tables',\n",
       " 11230: 'tire_fitting',\n",
       " 11305: 'marktet_types',\n",
       " 11389: 'mother_and_child_room',\n",
       " 11496: 'number_pool',\n",
       " 11531: 'seats',\n",
       " 11615: 'photo_studio',\n",
       " 11617: 'takeaway',\n",
       " 11629: 'summer_terrace',\n",
       " 11634: 'free_delivery',\n",
       " 11638: 'car_servicing',\n",
       " 11642: 'car_wash_type',\n",
       " 11657: 'car_waxing',\n",
       " 11658: 'tire_blacking',\n",
       " 11661: 'wheel_balancing',\n",
       " 11663: 'vulcanization',\n",
       " 11700: 'aquarium',\n",
       " 11703: 'clothes_fitting',\n",
       " 11704: 'wi_fi',\n",
       " 11705: 'tailoring',\n",
       " 11707: 'embroidery',\n",
       " 11709: 'strip',\n",
       " 11721: 'shooting',\n",
       " 11722: 'tailoring_of',\n",
       " 11731: 'photo_printing',\n",
       " 11741: 'gift_certificate',\n",
       " 11758: 'photo_processing',\n",
       " 11774: 'price_1_min',\n",
       " 11827: 'wide_format_printing',\n",
       " 11828: 'riding',\n",
       " 11830: 'implants',\n",
       " 11832: 'scarification',\n",
       " 11834: 'tongue_splitting',\n",
       " 11835: 'video_digitization',\n",
       " 11836: 'suspension',\n",
       " 11838: 'snooker_table',\n",
       " 11839: 'delivery',\n",
       " 11840: 'tattoo_training',\n",
       " 11842: 'wet_cleaning',\n",
       " 11843: 'body_art',\n",
       " 11847: 'cleaning_services',\n",
       " 11848: 'theater_type',\n",
       " 11862: 'window_and_glass_cabinet_washing',\n",
       " 11864: 'fur_coat_storage',\n",
       " 11865: 'extreme_driving',\n",
       " 11867: 'business_lunch',\n",
       " 11870: 'dress_hire_and_tailoring',\n",
       " 11878: 'dresses',\n",
       " 11881: 'wedding_planning',\n",
       " 11882: 'work_with_individuals',\n",
       " 11883: 'additional_services_cars',\n",
       " 11886: 'additional_services_gas_station',\n",
       " 11895: 'brokencars',\n",
       " 11896: 'online_photo_printing',\n",
       " 11897: 'spa_services',\n",
       " 11904: 'infrared_sauna',\n",
       " 11906: 'hydro_massage_pool',\n",
       " 11909: 'shopping_advice',\n",
       " 11912: 'pilgrimage_service',\n",
       " 11913: 'photo_shoot',\n",
       " 11915: 'terrariums',\n",
       " 11916: 'wardrobe_analysis',\n",
       " 11920: 'make_up_style',\n",
       " 11930: 'wardrobe_makeover',\n",
       " 11933: 'dry_cleaning',\n",
       " 11935: 'color_analysis',\n",
       " 11936: 'internet_in_hotel',\n",
       " 11944: 'individual_training',\n",
       " 11948: 'master_classes',\n",
       " 11951: 'elevator',\n",
       " 11953: 'training_material',\n",
       " 11957: 'yoga_for_children',\n",
       " 11959: 'number_of_attraction',\n",
       " 11961: 'bbq',\n",
       " 11963: 'yoga_lesson_programs',\n",
       " 11967: 'eye_tests',\n",
       " 11968: 'back_treatment',\n",
       " 11970: 'fishing',\n",
       " 11972: 'yoga_seminars',\n",
       " 11977: 'lagoon',\n",
       " 11978: 'for_teachers',\n",
       " 11981: 'childrens_pool',\n",
       " 11982: 'fito_bar',\n",
       " 12015: 'opticians_services',\n",
       " 12047: 'tour_operators',\n",
       " 12048: 'payment_method',\n",
       " 12172: 'restorative_program',\n",
       " 12174: 'refueling_truck',\n",
       " 12178: 'auto_gas_station',\n",
       " 12193: 'table_tennis',\n",
       " 12195: 'dressing_room',\n",
       " 12196: 'insurance_services',\n",
       " 12198: 'animation_staff',\n",
       " 12200: 'insurance_type',\n",
       " 12203: 'rental',\n",
       " 12204: 'assortment_of_cake_fillings',\n",
       " 12206: 'cakes_for_different_occasions',\n",
       " 12209: 'ice_rink',\n",
       " 12210: 'corporate_events',\n",
       " 12212: 'self_service',\n",
       " 12243: 'fuel_cards',\n",
       " 12288: 'handicraft_type',\n",
       " 12290: 'handicraft_stores',\n",
       " 12292: 'type_windows',\n",
       " 12294: 'services_windows',\n",
       " 12303: 'windows_accessories',\n",
       " 12309: 'price_room',\n",
       " 20278: 'foregn_language_children',\n",
       " 20279: 'basic_service',\n",
       " 20280: 'hall_rental',\n",
       " 20282: 'price_cup_cappuccino',\n",
       " 20283: '4dx',\n",
       " 20285: 'cooperation_with_courier_services',\n",
       " 20288: 'legal_services_in_housing',\n",
       " 20291: 'plugtype',\n",
       " 20299: 'sport_place',\n",
       " 20303: 'types_motorcycles',\n",
       " 20304: 'price_rolls',\n",
       " 20305: 'beer_price',\n",
       " 20307: 'truck_tire_service',\n",
       " 20308: 'mobile_tire_service',\n",
       " 20309: 'dry_cleaning_home',\n",
       " 20328: 'national_library',\n",
       " 20329: 'public_library',\n",
       " 20330: 'technical_library',\n",
       " 20331: 'special_library',\n",
       " 20345: 'payment_by_parkmachine',\n",
       " 20346: 'payment_by_app',\n",
       " 20365: 'authorized_service',\n",
       " 20370: 'types_of_cosmetology',\n",
       " 20399: 'sport_activities',\n",
       " 20400: 'tires_on_all_wheels',\n",
       " 20402: 'classic_female_manicure_coated',\n",
       " 20403: 'labor_time',\n",
       " 20404: 'garbage_can',\n",
       " 20405: 'toilet',\n",
       " 20407: 'preliminary_registration',\n",
       " 20411: 'the_number_of_places_in_the_room',\n",
       " 20422: 'payment_by_credit_card',\n",
       " 20424: 'price_category',\n",
       " 20440: 'object',\n",
       " 20442: 'child_psychologist',\n",
       " 20459: 'watch',\n",
       " 20461: 'wrist_watch',\n",
       " 20490: 'for_cat',\n",
       " 20522: 'direction_college',\n",
       " 20536: 'level_training',\n",
       " 20539: 'form_high_school',\n",
       " 20541: 'for_dog',\n",
       " 20583: 'privately',\n",
       " 20600: 'areas_training',\n",
       " 20642: 'bicycle_trips',\n",
       " 20643: 'price_rental',\n",
       " 20660: 'types_tires',\n",
       " 20671: 'tennis_coverage',\n",
       " 20703: 'number_lanes',\n",
       " 20711: 'cost_hiring',\n",
       " 20713: 'car_body_cleaning_cost',\n",
       " 20725: 'iceloadingreagents',\n",
       " 20730: 'services_individuals',\n",
       " 20736: 'registration_liquidation_companies',\n",
       " 20742: 'medical_certificate',\n",
       " 20745: 'price_bed',\n",
       " 20757: 'data_recovery',\n",
       " 20779: 'types_wheels',\n",
       " 20793: 'medical_diagnostics',\n",
       " 20819: 'outdoor_skating_rink',\n",
       " 20850: 'preparatory_courses',\n",
       " 20853: 'nail_artdesign',\n",
       " 20854: 'parking_tariff',\n",
       " 20864: 'anonymous_medical',\n",
       " 20875: 'medical_specialists',\n",
       " 20877: 'types_heating_systems',\n",
       " 20880: 'hogh_school_ownship',\n",
       " 20881: 'weapons',\n",
       " 20896: 'types_massage',\n",
       " 20915: 'keep_tires',\n",
       " 20939: 'manicure_bin',\n",
       " 20987: 'research_library',\n",
       " 20988: 'fitness_services',\n",
       " 21001: 'library_blind',\n",
       " 21025: 'school_direction',\n",
       " 21032: 'sport',\n",
       " 21050: 'car_repairs',\n",
       " 21063: 'specialization_clinic',\n",
       " 21068: 'school_uniform',\n",
       " 21074: 'balanceren"
      ]
     },
     "execution_count": 57,
     "metadata": {},
     "output_type": "execute_result"
    },
    {
     "data": {
      "text/html": [
       "<b>limit_output extension: Maximum message size of 10000 exceeded with 29785 characters</b>"
      ]
     },
     "metadata": {},
     "output_type": "display_data"
    }
   ],
   "source": [
    "features_dict"
   ]
  },
  {
   "cell_type": "markdown",
   "metadata": {},
   "source": [
    "Мы что-то поняли про признаки, которыми нам предстоит пользоваться. Теперь время посмотреть на таргет. Вооружившись функциями ``hist`` и ``scatter`` из библиотеки ``matplotlib``, а также методом ``isna`` для pandas-таблиц разберитесь, какие значения принимают таргеты, есть ли там там выбросы, пропуски или ещё какие-то проблемы.\n",
    "\n",
    "&nbsp;\n",
    "\n",
    "<details>\n",
    "  <summary>Когда будете готовы, кликните сюда, чтобы посмотреть ответ</summary>\n",
    "    <ol>\n",
    "      <li>Среди таргетов довольно много пропусков;</li>\n",
    "      <li>Все таргеты - это числа, кратные 500;</li>\n",
    "      <li>Есть какие-то адские значения, превышающие 100 000 (видимо, выбросы);</li>\n",
    "      <li>В целом, число ресторанов с данным средним чеком быстро падает с ростом среднего чека. Для средних чеков, больших 2500, заведений уже совсем мало. Примерно у 2/3 заведений средний чек 500.</li>\n",
    "    </ol> \n",
    "</details>"
   ]
  },
  {
   "cell_type": "code",
   "execution_count": 15,
   "metadata": {
    "scrolled": true
   },
   "outputs": [
    {
     "data": {
      "image/png": "[encoded data removed]",
      "text/plain": [
       "<Figure size 640x480 with 1 Axes>"
      ]
     },
     "metadata": {},
     "output_type": "display_data"
    }
   ],
   "source": []
  },
  {
   "cell_type": "markdown",
   "metadata": {},
   "source": [
    "**Базовая очистка данных**\n",
    "\n",
    "Раз есть треш, давайте чистить данные.\n",
    "\n",
    "С пропусками можно бороться по-разному (даже и с пропусками в таргете), но пока мы сделаем самую простую вещь: дропнем все заведения, для которых мы не знаем средний чек. \n",
    "\n",
    "Уберите из них все заведения, у которых средний чек неизвестен или превышает 2500. Пока есть опасение, что их слишком мало, чтобы мы смогли обучить на них что-нибудь.\n",
    "\n",
    "**3. (1 балл) Введите в Контест количество заведений, которое у вас получилось после очистки**.\n",
    "\n",
    "Дальше мы будем работать с очищенными данными."
   ]
  },
  {
   "cell_type": "code",
   "execution_count": 4,
   "metadata": {
    "ExecuteTime": {
     "end_time": "2022-09-17T18:14:23.526216Z",
     "start_time": "2022-09-17T18:14:23.499685Z"
    }
   },
   "outputs": [
    {
     "data": {
      "text/plain": [
       "org_id          32136\n",
       "city            32136\n",
       "average_bill    32136\n",
       "rating          27818\n",
       "rubrics_id      32136\n",
       "features_id     32136\n",
       "dtype: int64"
      ]
     },
     "execution_count": 4,
     "metadata": {},
     "output_type": "execute_result"
    }
   ],
   "source": [
    "clean_data = data[(data['average_bill'].notna()) & (data['average_bill'] <= 2500)]\n",
    "clean_data.count()"
   ]
  },
  {
   "cell_type": "markdown",
   "metadata": {},
   "source": [
    "**4. (1 балл) Посчитайте и введите в Контест разность между средними арифметическими average_bill в кафе Москвы и Санкт-Петербурга. Округлите ответ до целого.**\n",
    "\n",
    "&nbsp;\n",
    "\n",
    "<details>\n",
    "  <summary>Небольшая подсказка</summary>\n",
    "  Примените часто используемый метод groupby.\n",
    "</details>"
   ]
  },
  {
   "cell_type": "code",
   "execution_count": 6,
   "metadata": {
    "ExecuteTime": {
     "end_time": "2022-09-15T05:51:07.544064Z",
     "start_time": "2022-09-15T05:51:07.290340Z"
    }
   },
   "outputs": [
    {
     "data": {
      "text/html": [
       "<div>\n",
       "<style scoped>\n",
       "    .dataframe tbody tr th:only-of-type {\n",
       "        vertical-align: middle;\n",
       "    }\n",
       "\n",
       "    .dataframe tbody tr th {\n",
       "        vertical-align: top;\n",
       "    }\n",
       "\n",
       "    .dataframe thead th {\n",
       "        text-align: right;\n",
       "    }\n",
       "</style>\n",
       "<table border=\"1\" class=\"dataframe\">\n",
       "  <thead>\n",
       "    <tr style=\"text-align: right;\">\n",
       "      <th></th>\n",
       "      <th>average_bill</th>\n",
       "    </tr>\n",
       "    <tr>\n",
       "      <th>city</th>\n",
       "      <th></th>\n",
       "    </tr>\n",
       "  </thead>\n",
       "  <tbody>\n",
       "    <tr>\n",
       "      <th>msk</th>\n",
       "      <td>781.080794</td>\n",
       "    </tr>\n",
       "    <tr>\n",
       "      <th>spb</th>\n",
       "      <td>638.677107</td>\n",
       "    </tr>\n",
       "  </tbody>\n",
       "</table>\n",
       "</div>"
      ],
      "text/plain": [
       "      average_bill\n",
       "city              \n",
       "msk     781.080794\n",
       "spb     638.677107"
      ]
     },
     "execution_count": 6,
     "metadata": {},
     "output_type": "execute_result"
    }
   ],
   "source": [
    "clean_data[clean_data['rubrics_id'].apply(lambda x: '30774' in x.split())].groupby('city').agg({'average_bill': 'mean'})"
   ]
  },
  {
   "cell_type": "markdown",
   "metadata": {},
   "source": [
    "Давайте ещё немного поизучаем данные. Ответьте на вопросы:\n",
    "\n",
    "1. Есть ли разница между средними чеками в Москве и Санкт-Петербурге?\n",
    "2. Коррелирует ли средний чек с рейтингом?\n",
    "3. Есть ли разница в среднем чеке между ресторанами и пабами (см. соответствующие типы из ``rubrics``)?\n",
    "\n",
    "&nbsp;\n",
    "\n",
    "<details>\n",
    "  <summary>Когда будете готовы, кликните сюда, чтобы посмотреть ответ</summary>\n",
    "    <ol>\n",
    "      <li>В целом, да. Вы могли бы сравнить средние (в Москве больше) или медианы (они равны, потому что уж больно много где средний чек 500). Этого, конечно, мало для того, чтобы сделать вывод. Нужно проверять какие-то статические критерии, которые изучаются в курсе по статистике. Не будем останавливаться на этом подробно. Поскольку данные совсем не нормальные, никакой t-тест не сработает; мы бы предложили использовать критерий Манна-Уитни (см. википедию и функцию mannwhitneyu из библиотеки scipy.stats).</li>\n",
    "      <li>Какая-то корреляция между ними есть но уж больно неубедительная (рекомендуем построим на одном графике boxplot рейтинга по каждому значению среднего чека для визуализации). Конечно, дна становится меньше с ростом среднего чека, но, видимо, в предсказании это особо не используешь;</li>\n",
    "      <li>Несомненно, в ресторанах средний чек выше. Это и невооружённым глазом видно, и с помощью критерия Манна-Уитни можно проверить.</li>\n",
    "    </ol> \n",
    "</details>"
   ]
  },
  {
   "cell_type": "markdown",
   "metadata": {},
   "source": [
    "## Формулируем задачу"
   ]
  },
  {
   "cell_type": "markdown",
   "metadata": {},
   "source": [
    "Прежде, чем решать задачу, её надо сформулировать.\n",
    "\n",
    "**Вопрос первый**: это классификация или регрессия? Подумайте над этим.\n",
    "\n",
    "&nbsp;\n",
    "\n",
    "<details>\n",
    "  <summary>Когда будете готовы, кликните сюда, чтобы посмотреть ответ</summary>\n",
    "    Ответ не столь однозначен, как хотелось бы. С одной стороны, таргет принимает всего четыре значения, и потому это может быть классификацией с 4 классами. С другой стороны, таргеты - это не абстрактные \"треугольник\", \"круг\", \"квадрат\", а вещественные числа, и когда мы вместо 500 предсказываем 2500, это явно хуже, чем вместо 1500 предсказать 2000. В целом, задачу можно решать и так, и так; мы будем смотреть на метрики обеих задач.\n",
    "</details>"
   ]
  },
  {
   "cell_type": "markdown",
   "metadata": {},
   "source": [
    "**Вопрос второй**: какие метрики мы будем использовать для оценки качества решения? Какие метрики вы предложили бы для этой задачи как для задачи классификации? А для этой задачи, как для задачи регрессии?\n",
    "\n",
    "&nbsp;\n",
    "\n",
    "<details>\n",
    "  <summary>Когда будете готовы, кликните сюда, чтобы посмотреть ответ</summary>\n",
    "    \n",
    "    Начнём с классификации. Метрика accuracy не очень хороша из-за несбалансированности классов. Действительно, классификатор, который всегда говорит 500, будет иметь accuracy примерно 0.66, хотя это никак не отражает практическую ценность модели. Как мы увидим, самая большая проблема будет заключаться в том, чтобы научиться выделять заведения с большими чеками, а их меньше всего и в accuracy они вносят самый маленький вклад. Есть разные способы с этим бороться, один -- использовать sklearn.metrics.balanced_accuracy_score. Его идея, грубо говоря, в том, чтобы по каждому классу найти, какая доля объектов этого класса правильно классифицирована, а потом эти доли усреднить. Тогда у бессмысленного классификатора, который всем ставит 500, будет скор 1/5 (ведь классов 5), а чтобы получить прежние 2/3, нужно будет научиться в каждом классе правильно ставить хотя бы 2/3 меток.    \n",
    "    \n",
    "    Теперь что касается регрессии. Основых метрики две - MSE и MAE. Из первой стоит извлекать корень, чтобы получать интерпретируемые человеком значения, а вторая менее агрессивна к выбросам (впрочем, выбросов тут уже нет, мы их все выкинули). Без дополнительной информации не очень понятно, какую выбирать, можно брать любую. А выбирать надо: ведь даже банальные модели \"предсказывай всегда среднее\" и \"предсказывай всегда медиану\" будут по-разному ранжироваться этими метриками.\n",
    "    \n",
    "</details>"
   ]
  },
  {
   "cell_type": "markdown",
   "metadata": {},
   "source": [
    "**Вопрос третий**: а не взять ли нам какую-нибудь более экзотическую метрику? Например, MAPE (определение в учебнике в главе про оценку качества моделей). А как вам такое соображение: допустим, заказчик говорит, что пользователи будут расстраиваться, только если мы завысили средний чек - так давайте поправим MSE или MAE, обнуляя те слагаемые, для которых предсказанный таргет меньше истинного. Вот это хорошая метрика или нет?\n",
    "\n",
    "&nbsp;\n",
    "\n",
    "<details>\n",
    "  <summary>Когда будете готовы, кликните сюда, чтобы посмотреть ответ</summary>\n",
    "    \n",
    "    Что касается MAPE, у нас нет тех проблем, с которой она борется. Вот если бы у нас были средние чеки от 500 до миллиона, мы бы столкнулись с ситуацией, что большие ошибки для больших чеков доминировали бы в сумме для MSE и MAE (500 вместо 1000 меркнет по сравнению с 500к вместо миллиона). Говоря поэтически, мы бы оптимизировали модель для миллионеров, забыв про простых трудяг. И было бы логично перейти от парадигмы \"ошибаемся на 500 рублей\" к парадигме \"ошибаемся на 50%\". Но у нас все таргеты примерно одного порядка, MAPE нам особо ни к чему.\n",
    "    \n",
    "    Вторая метрика коварна тем, что её можно \"накрутить\" безо всякой пользы для дела. А именно, модель, которая всегда предсказывает средний чек в миллион, была бы идеальна. Но все бы расстраивались и не ходили есть. Другое дело, что можно ввести разные веса для ошибок в большую и в меньшую сторону, но опять же - пока нет показаний к тому, что это нужно.\n",
    "    \n",
    "</details>"
   ]
  },
  {
   "cell_type": "markdown",
   "metadata": {},
   "source": [
    "## Применяем ML"
   ]
  },
  {
   "cell_type": "markdown",
   "metadata": {},
   "source": [
    "Теперь время разбить данные на обучающую и тестовую выборку. Делается это с помощью функции ``train_test_split`` из пакета ``sklearn``. При этом очень важно сделать две вещи:\n",
    "\n",
    "* Зафиксировать ``random_state=42`` (да, именно этот, а то ваши модели могут не зайти в Контест), чтобы всё, что мы делаем, было воспроизводимо (иначе от перезапуска к перезапуску числа могут меняться, и мы не будем понимать, из-за чего это происходит).\n",
    "* Сделать стратификацию по таргету. В противном случае у нас в трейне и тесте могут оказаться разные пропорции классов (обычно особенно страдают мало представленные классы), что неутешительно скажется на результате.\n",
    "\n",
    "**Обратите внимание**, что если вы побьёте выборку на train и test по-другому, ваши результаты могут не зайти в контест."
   ]
  },
  {
   "cell_type": "code",
   "execution_count": 5,
   "metadata": {
    "ExecuteTime": {
     "end_time": "2022-09-17T18:14:29.671554Z",
     "start_time": "2022-09-17T18:14:29.652271Z"
    }
   },
   "outputs": [],
   "source": [
    "clean_data_train, clean_data_test = train_test_split(\n",
    "    clean_data, stratify=clean_data['average_bill'], test_size=0.33, random_state=42)"
   ]
  },
  {
   "cell_type": "markdown",
   "metadata": {},
   "source": [
    "Теперь нам нужен **бейзлайн** - очень простая модель, с которой мы в дальнейшем будем сравниваться.\n",
    "\n",
    "Поскольку мы ещё не знаем никаких умных классов моделей, все модели мы будем писать руками. А именно, мы напишем две простых модели на основе ``sklearn.baseRegressorMixin`` и ``sklearn.base.ClassifierMixin`` (посмотрите примеры в документации sklearn и сделайте так же):\n",
    "\n",
    "* Модель для задачи регрессии, которая для всех заведений предсказывает одно число — среднее значение среднего чека;\n",
    "* Модель для задачи классификации, которая для всех заведений предсказывает один класс — самый частый класс (ироничным образом он в данном случае совпадает с медианой).\n",
    "\n",
    "**Важно!** Мы будем много раз повторять вам мантру о том, что **информация из тестовой выборки не должна протекать в процесс обучения**. Так вот, и среднее, и самый частый класс вы должны считать именно на обучающей выборке!\n",
    "\n",
    "**5 и 6. (по 1 баллу) Напишите эти две модели и сдайте в Контест**. В процессе проверки модели будут и обучаться, и предсказывать.\n",
    "\n",
    "Заметим, что для этих моделей нам вообще не нужны какие-то \"фичи\"; мы работаем только с таргетом.\n",
    "\n",
    "У каждой модели есть (как минимум) два метода: `fit` (обучает модель по фичам `X` и таргету `y`) `predict` (предсказывает по фичам `X`)"
   ]
  },
  {
   "cell_type": "code",
   "execution_count": 7,
   "metadata": {
    "ExecuteTime": {
     "end_time": "2022-09-16T11:45:23.417347Z",
     "start_time": "2022-09-16T11:45:23.408941Z"
    }
   },
   "outputs": [],
   "source": [
    "from scipy.stats import mode\n",
    "\n",
    "from sklearn.base import RegressorMixin\n",
    "\n",
    "class MeanRegressor(RegressorMixin):\n",
    "    # Predicts the mean of y_train\n",
    "    def fit(self, X=None, y=None):\n",
    "        '''\n",
    "        Parameters\n",
    "        ----------\n",
    "        X : array like, shape = (n_samples, n_features)\n",
    "        Training data features\n",
    "        y : array like, shape = (_samples,)\n",
    "        Training data targets\n",
    "        '''\n",
    "        self.mean_bill = y.mean()\n",
    "        \n",
    "    def predict(self, X=None):\n",
    "        '''\n",
    "        Parameters\n",
    "        ----------\n",
    "        X : array like, shape = (n_samples, n_features)\n",
    "        Data to predict\n",
    "        '''\n",
    "        return self.mean_bill\n",
    "    \n",
    "from sklearn.base import ClassifierMixin\n",
    "\n",
    "class MostFrequentClassifier(ClassifierMixin):\n",
    "    # Predicts the rounded (just in case) median of y_train\n",
    "    def fit(self, X=None, y=None):\n",
    "        '''\n",
    "        Parameters\n",
    "        ----------\n",
    "        X : array like, shape = (n_samples, n_features)\n",
    "        Training data features\n",
    "        y : array like, shape = (_samples,)\n",
    "        Training data targets\n",
    "        '''\n",
    "        self.mode_class = mode(y)[0]\n",
    "        \n",
    "    def predict(self, X=None):\n",
    "        '''\n",
    "        Parameters\n",
    "        ----------\n",
    "        X : array like, shape = (n_samples, n_features)\n",
    "        Data to predict\n",
    "        '''\n",
    "        return self.mode_class"
   ]
  },
  {
   "cell_type": "markdown",
   "metadata": {},
   "source": [
    "Обучим наши модели"
   ]
  },
  {
   "cell_type": "code",
   "execution_count": 8,
   "metadata": {
    "ExecuteTime": {
     "end_time": "2022-09-16T11:45:29.801899Z",
     "start_time": "2022-09-16T11:45:29.795629Z"
    }
   },
   "outputs": [
    {
     "name": "stderr",
     "output_type": "stream",
     "text": [
      "/tmp/ipykernel_5957/2167377542.py:40: FutureWarning: Unlike other reduction functions (e.g. `skew`, `kurtosis`), the default behavior of `mode` typically preserves the axis it acts along. In SciPy 1.11.0, this behavior will change: the default value of `keepdims` will become False, the `axis` over which the statistic is taken will be eliminated, and the value None will no longer be accepted. Set `keepdims` to True or False to avoid this warning.\n",
      "  self.mode_class = mode(y)[0]\n"
     ]
    }
   ],
   "source": [
    "reg = MeanRegressor()\n",
    "reg.fit(y=clean_data_train['average_bill'])\n",
    "\n",
    "clf = MostFrequentClassifier()\n",
    "clf.fit(y=clean_data_train['average_bill'])"
   ]
  },
  {
   "cell_type": "code",
   "execution_count": 9,
   "metadata": {
    "ExecuteTime": {
     "end_time": "2022-09-16T11:45:32.562272Z",
     "start_time": "2022-09-16T11:45:32.555393Z"
    }
   },
   "outputs": [
    {
     "data": {
      "text/plain": [
       "448.7143889551622"
      ]
     },
     "execution_count": 9,
     "metadata": {},
     "output_type": "execute_result"
    }
   ],
   "source": [
    "from sklearn.metrics import mean_squared_error\n",
    "from sklearn.metrics import balanced_accuracy_score\n",
    "\n",
    "np.sqrt(mean_squared_error(clean_data_test['average_bill'], np.ones(clean_data_test['average_bill'].count()) * reg.predict()))\n",
    "#np.sqrt(mean_squared_error(clean_data_test['average_bill'], np.ones(clean_data_test['average_bill'].count()) * clf.predict()))\n",
    "#balanced_accuracy_score(clean_data_test['average_bill'], np.ones(clean_data_test['average_bill'].count()) * clf.predict())"
   ]
  },
  {
   "cell_type": "markdown",
   "metadata": {},
   "source": [
    "Обучите модели и оцените их качество на тестовой выборке. В качестве метрик возьмём RMSE (``np.sqrt`` от ``sklearn.metrics.mean_squared_error``) и ``sklearn.metrics.balanced_accuracy_score``.\n",
    "\n",
    "Для регрессионной модели имеет смысл считать только RMSE (значения будут не кратны 500, точно мы угадывать не будем никогда), а вот для классификационной можно найти обе метрики. Сделайте это. Какая модель оказалась лучше по RMSE?"
   ]
  },
  {
   "cell_type": "markdown",
   "metadata": {},
   "source": [
    "<details>\n",
    "  <summary>Когда будете готовы, кликните сюда</summary>\n",
    "    \n",
    "  Казалось бы, регрессор никогда не угадывает, но он в каком-то смысле лучше классификатора - справедливо ли это? Возможно. Несуществующий пользователь модели вряд ли будет задавать вопросы \"почему средний чек не кратен 500?\" Ну, выдали около 800 - ок, понятно.\n",
    "    \n",
    "</details>"
   ]
  },
  {
   "cell_type": "markdown",
   "metadata": {},
   "source": [
    "## Усложнение модели"
   ]
  },
  {
   "cell_type": "markdown",
   "metadata": {},
   "source": [
    "Бейзлайны будут нашей отправной точкой. Строя дальнейшие модели, мы будем спрашивать себя: получилось ли лучше бейзлайна? Если нет или если не особо, то в чём смысл усложнения?"
   ]
  },
  {
   "cell_type": "markdown",
   "metadata": {},
   "source": [
    "Начнём с использования фичи ``city``. Мы уже видели, что в разных городах и средние чеки разные. Легко проверить, что *медиана* средних чеков всё же одна и та же и в Москве, и в Санкт-Петербурге (ох уж этот вездесущий средний чек 500!), поэтому с классификатором мы ничего не сделаем. Но вот регрессор можно попробовать починить.\n",
    "\n",
    "**7. (1 балл) Напишите регрессор, для каждого заведения предсказывающий среднее значение в том же городе (на обучающей выборке, конечно) и сдайте его в Контест**. Вам может помочь то, что булевы `pandas` и `numpy` столбцы можно умножать на численные — в такой ситуации False работает, как ноль, а True как единица."
   ]
  },
  {
   "cell_type": "code",
   "execution_count": 10,
   "metadata": {
    "ExecuteTime": {
     "end_time": "2022-09-16T11:45:42.512149Z",
     "start_time": "2022-09-16T11:45:42.503790Z"
    }
   },
   "outputs": [],
   "source": [
    "from sklearn.base import RegressorMixin\n",
    "\n",
    "class CityMeanRegressor(RegressorMixin):\n",
    "    def fit(self, X=None, y=None):\n",
    "        self.msk_mean = y[X == 'msk'].mean()\n",
    "        self.spb_mean = y[X == 'spb'].mean()\n",
    "        \n",
    "    def predict(self, X=None):\n",
    "        return (X == 'msk') * self.msk_mean + (X == 'spb') * self.spb_mean"
   ]
  },
  {
   "cell_type": "code",
   "execution_count": 11,
   "metadata": {
    "ExecuteTime": {
     "end_time": "2022-09-16T11:45:44.907698Z",
     "start_time": "2022-09-16T11:45:44.897905Z"
    }
   },
   "outputs": [],
   "source": [
    "reg_city = CityMeanRegressor()\n",
    "reg_city.fit(clean_data_train['city'], clean_data_train['average_bill'])"
   ]
  },
  {
   "cell_type": "code",
   "execution_count": 12,
   "metadata": {
    "ExecuteTime": {
     "end_time": "2022-09-16T11:45:47.521518Z",
     "start_time": "2022-09-16T11:45:47.513557Z"
    }
   },
   "outputs": [
    {
     "data": {
      "text/plain": [
       "445.1063281403263"
      ]
     },
     "execution_count": 12,
     "metadata": {},
     "output_type": "execute_result"
    }
   ],
   "source": [
    "from sklearn.metrics import mean_squared_error\n",
    "np.sqrt(mean_squared_error(clean_data_test['average_bill'], reg_city.predict(clean_data_test['city'])))"
   ]
  },
  {
   "cell_type": "markdown",
   "metadata": {},
   "source": [
    "Обучите регрессор и сравните его по метрике RMSE с бейзлайнами. Получилось ли улучшить метрику?"
   ]
  },
  {
   "cell_type": "markdown",
   "metadata": {},
   "source": [
    "Лучше стало, но, правда, не очень сильно. В этот момент очень важно не просто радовать руководителя приростом в третьем знаке, но и думать о том, что происходит.\n",
    "\n",
    "Средний средний чек по Москве равен 793, в Санкт-Петербурге - 676, а в целом - 752 рубля. MSE, увы, не поможет вам ответить на вопрос, стало ли лучше пользователю, если вы ему вместо 752 рублей назвали 793. Здесь вскрывается весьма существенный порок MSE в этой задаче. Дело в том, что наш изначальный таргет делит заведения на некоторые \"ценовые категории\", и различие в средних чеках 500 и 1000 в самом деле существенно. Наверное, мы хотели бы как раз правильно предсказывать ценовые категории. Но MSE не очень помогает нам об этом судить. Дальше мы ещё подумаем, как это исправить.\n",
    "\n",
    "В любом случае, несмотря на улучшение метрики, мы пока не можем судить, стало ли по жизни лучше от усложнения модели."
   ]
  },
  {
   "cell_type": "markdown",
   "metadata": {},
   "source": [
    "Поручинившись немного, возьмём на вооружение другую идею. Давайте использовать типы заведений! \n",
    "\n",
    "Но с типами есть некоторая проблема: в столбце ``rubrics_id`` не всегда один идентификатор, часто их несколько, и всего комбинаций довольно много. Чтобы не возиться с малочисленными типами, давайте сольём их в один безликий ``other``.\n",
    "\n",
    "Итак, добавьте в обучающие и тестовые данные столбец ``modified_rubrics``, в котором будет то же, что и в ``rubrics_id``, если соответствующая комбинация рубрик содержит хотя бы 100 заведений из обучающей (!) выборки, и строка ``other`` в противном случае.\n",
    "\n",
    "Здесь вам поможет контейнер ``Counter`` из библиотеки ``collections``."
   ]
  },
  {
   "cell_type": "code",
   "execution_count": 7,
   "metadata": {
    "ExecuteTime": {
     "end_time": "2022-09-16T16:30:24.895150Z",
     "start_time": "2022-09-16T16:30:24.877661Z"
    }
   },
   "outputs": [],
   "source": [
    "import collections\n",
    "counter = collections.Counter(clean_data_train['rubrics_id'])\n",
    "clean_data_train['modified_rubrics'] = clean_data_train['rubrics_id'].apply(lambda x: x if counter[x] >= 100 else 'other')\n",
    "clean_data_test['modified_rubrics'] = clean_data_test['rubrics_id'].apply(lambda x: x if counter[x] >= 100 else 'other')"
   ]
  },
  {
   "cell_type": "code",
   "execution_count": 28,
   "metadata": {
    "ExecuteTime": {
     "end_time": "2022-09-16T13:38:55.314844Z",
     "start_time": "2022-09-16T13:38:55.216459Z"
    }
   },
   "outputs": [
    {
     "data": {
      "text/plain": [
       "500.0"
      ]
     },
     "execution_count": 28,
     "metadata": {},
     "output_type": "execute_result"
    }
   ],
   "source": [
    "clean_data_train.groupby(['modified_rubrics', 'city'])['average_bill'].median()['30519', 'msk']"
   ]
  },
  {
   "cell_type": "code",
   "execution_count": 9,
   "metadata": {
    "ExecuteTime": {
     "end_time": "2022-09-16T16:32:07.727112Z",
     "start_time": "2022-09-16T16:32:07.555900Z"
    }
   },
   "outputs": [
    {
     "data": {
      "text/html": [
       "<div>\n",
       "<style scoped>\n",
       "    .dataframe tbody tr th:only-of-type {\n",
       "        vertical-align: middle;\n",
       "    }\n",
       "\n",
       "    .dataframe tbody tr th {\n",
       "        vertical-align: top;\n",
       "    }\n",
       "\n",
       "    .dataframe thead th {\n",
       "        text-align: right;\n",
       "    }\n",
       "</style>\n",
       "<table border=\"1\" class=\"dataframe\">\n",
       "  <thead>\n",
       "    <tr style=\"text-align: right;\">\n",
       "      <th></th>\n",
       "      <th>city</th>\n",
       "      <th>rubrics_id</th>\n",
       "      <th>average_bill</th>\n",
       "    </tr>\n",
       "  </thead>\n",
       "  <tbody>\n",
       "    <tr>\n",
       "      <th>0</th>\n",
       "      <td>msk</td>\n",
       "      <td>30776 30774</td>\n",
       "      <td>1500.0</td>\n",
       "    </tr>\n",
       "    <tr>\n",
       "      <th>1</th>\n",
       "      <td>msk</td>\n",
       "      <td>30771</td>\n",
       "      <td>500.0</td>\n",
       "    </tr>\n",
       "    <tr>\n",
       "      <th>2</th>\n",
       "      <td>msk</td>\n",
       "      <td>31495</td>\n",
       "      <td>500.0</td>\n",
       "    </tr>\n",
       "    <tr>\n",
       "      <th>3</th>\n",
       "      <td>msk</td>\n",
       "      <td>30776 30770</td>\n",
       "      <td>500.0</td>\n",
       "    </tr>\n",
       "    <tr>\n",
       "      <th>4</th>\n",
       "      <td>msk</td>\n",
       "      <td>31495</td>\n",
       "      <td>500.0</td>\n",
       "    </tr>\n",
       "    <tr>\n",
       "      <th>...</th>\n",
       "      <td>...</td>\n",
       "      <td>...</td>\n",
       "      <td>...</td>\n",
       "    </tr>\n",
       "    <tr>\n",
       "      <th>68328</th>\n",
       "      <td>spb</td>\n",
       "      <td>30776</td>\n",
       "      <td>1000.0</td>\n",
       "    </tr>\n",
       "    <tr>\n",
       "      <th>68329</th>\n",
       "      <td>msk</td>\n",
       "      <td>31401</td>\n",
       "      <td>1500.0</td>\n",
       "    </tr>\n",
       "    <tr>\n",
       "      <th>68330</th>\n",
       "      <td>msk</td>\n",
       "      <td>30776</td>\n",
       "      <td>1500.0</td>\n",
       "    </tr>\n",
       "    <tr>\n",
       "      <th>68331</th>\n",
       "      <td>msk</td>\n",
       "      <td>30770 30776 30774</td>\n",
       "      <td>1500.0</td>\n",
       "    </tr>\n",
       "    <tr>\n",
       "      <th>68332</th>\n",
       "      <td>msk</td>\n",
       "      <td>30776</td>\n",
       "      <td>2500.0</td>\n",
       "    </tr>\n",
       "  </tbody>\n",
       "</table>\n",
       "<p>32136 rows × 3 columns</p>\n",
       "</div>"
      ],
      "text/plain": [
       "      city         rubrics_id  average_bill\n",
       "0      msk        30776 30774        1500.0\n",
       "1      msk              30771         500.0\n",
       "2      msk              31495         500.0\n",
       "3      msk        30776 30770         500.0\n",
       "4      msk              31495         500.0\n",
       "...    ...                ...           ...\n",
       "68328  spb              30776        1000.0\n",
       "68329  msk              31401        1500.0\n",
       "68330  msk              30776        1500.0\n",
       "68331  msk  30770 30776 30774        1500.0\n",
       "68332  msk              30776        2500.0\n",
       "\n",
       "[32136 rows x 3 columns]"
      ]
     },
     "execution_count": 9,
     "metadata": {},
     "output_type": "execute_result"
    }
   ],
   "source": [
    "ex = clean_data[['city', 'rubrics_id']].join(clean_data['average_bill'])\n",
    "ex"
   ]
  },
  {
   "cell_type": "markdown",
   "metadata": {},
   "source": [
    "Теперь настало время написать могучий классификатор, который по заведению предсказывает медиану средних чеков среди тех в обучающей выборке, у которых с ним одинаковые `modified_rubrics` и город (вы спросите, почему медиану, а не самый частый -- спишем это на вдохновение; самый частый тоже можно брать - но медиана работает лучше).\n",
    "\n",
    "**8. (2 балла) Напишите классификатор и сдайте в Контест**."
   ]
  },
  {
   "cell_type": "code",
   "execution_count": 27,
   "metadata": {
    "ExecuteTime": {
     "end_time": "2022-09-16T16:53:58.437514Z",
     "start_time": "2022-09-16T16:53:58.421594Z"
    }
   },
   "outputs": [],
   "source": [
    "from sklearn.base import ClassifierMixin\n",
    "\n",
    "class RubricCityMedianClassifier(ClassifierMixin):\n",
    "    def fit(self, X=None, y=None):\n",
    "        '''\n",
    "        Parameters\n",
    "        ----------\n",
    "        X : array like, shape = (n_samples, n_features)\n",
    "        Training data features\n",
    "        y : array like, shape = (_samples,)\n",
    "        Training data targets\n",
    "        '''\n",
    "        ex = X.join(y)\n",
    "        self.medians_msk = ex[ex['city'] == 'msk'].groupby('modified_rubrics')['average_bill'].median()\n",
    "        self.medians_spb = ex[ex['city'] == 'spb'].groupby('modified_rubrics')['average_bill'].median()\n",
    "\n",
    "    def predict(self, X=None):\n",
    "        '''\n",
    "        Parameters\n",
    "        ----------\n",
    "        X : array like, shape = (n_samples, n_features)\n",
    "        Data to predict\n",
    "        '''\n",
    "        return X.apply(lambda x: self.medians_msk[x['modified_rubrics']] if x['city'] == 'msk' else self.medians_spb[x['modified_rubrics']], axis=1)\n"
   ]
  },
  {
   "cell_type": "code",
   "execution_count": 30,
   "metadata": {
    "ExecuteTime": {
     "end_time": "2022-09-16T16:55:54.307019Z",
     "start_time": "2022-09-16T16:55:54.128683Z"
    }
   },
   "outputs": [
    {
     "data": {
      "text/plain": [
       "65841     500.0\n",
       "48882     500.0\n",
       "33711     500.0\n",
       "33544    1500.0\n",
       "35293     500.0\n",
       "          ...  \n",
       "55337    1500.0\n",
       "64048    1500.0\n",
       "22010    1500.0\n",
       "40089     500.0\n",
       "32180     500.0\n",
       "Length: 10605, dtype: float64"
      ]
     },
     "execution_count": 30,
     "metadata": {},
     "output_type": "execute_result"
    }
   ],
   "source": [
    "clf = RubricCityMedianClassifier()\n",
    "clf.fit(clean_data_train[['city', 'modified_rubrics']], clean_data_train['average_bill'])\n",
    "clf.predict(clean_data_test[['city', 'modified_rubrics']])"
   ]
  },
  {
   "cell_type": "markdown",
   "metadata": {},
   "source": [
    "Сравните обученный классификатор по метрикам RMSE и balanced_accuracy_score с нашими бейзлайнами. Получилось ли улучшить?"
   ]
  },
  {
   "cell_type": "markdown",
   "metadata": {},
   "source": [
    "Обратите внимание что рост accuracy по сравнению с бейзлайном при этом на порядок меньше:"
   ]
  },
  {
   "cell_type": "markdown",
   "metadata": {},
   "source": [
    "accuracy_score\n",
    "\n",
    "Predict most frequent:  0.6947666195190948\n",
    "\n",
    "Predict by rubric and city:  0.7095709570957096"
   ]
  },
  {
   "cell_type": "markdown",
   "metadata": {},
   "source": [
    "Для диагностики напечатайте для каждого класса тестовой выборки, сколько в нём объектов и скольким из них наш классификатор приписал правильный класс. Что вы видите?\n",
    "\n",
    "&nbsp;\n",
    "\n",
    "<details>\n",
    "  <summary>Когда будете готовы, кликните сюда, чтобы посмотреть ответ</summary>\n",
    "    \n",
    "  Вы, вероятно, видите то, что мы стали однозначно лучше по сравнению с бейзлайном детектировать средний чек 1000 и 1500 (хотя всё равно не очень хорошо + ценой ухудшения качества на среднем чеке 500), а вот чеки 2000 и 2500 нам ну никак не даются.\n",
    "    \n",
    "</details>"
   ]
  },
  {
   "cell_type": "markdown",
   "metadata": {},
   "source": [
    "**Кстати**. А вы понимаете, почему приведённый выше пайплайн классификации был не очень удачным с точки зрения архитектуры? Почему его было бы правильнее воплотить по-другому?\n",
    "\n",
    "&nbsp;\n",
    "\n",
    "<details>\n",
    "  <summary>Когда будете готовы, кликните сюда, чтобы посмотреть ответ</summary>\n",
    "Собственно говоря, и не было никакого пайплайна. К счастью, у нас была одна обучающая выборка, мы на ней посчитали список рубрик для modified_rubrics и радовались жизни. Но если бы нам надо было переобучать всё на новых данных, пришлось бы помнить, что их надо везде пересчитать (ведь у нас могли появиться новые рубрики с хотя бы 100 представителями). А уж никакую кросс-валидацию (кто знает - тот поймёт) с нашим подходом к делу и вовсе бы не получилось сделать без боли.\n",
    "    \n",
    "Поэтому в следующей лабораторной вы научитесь делать честные пайплайны, в которых преобразование данных, генерация фичей и обучение классификатора будут объединены в один понятный процесс, происходящий на этапе fit.\n",
    "</details>"
   ]
  },
  {
   "cell_type": "markdown",
   "metadata": {},
   "source": [
    "## Слишком простые и слишком сложные модели"
   ]
  },
  {
   "cell_type": "markdown",
   "metadata": {},
   "source": [
    "Бейзлайны у нас слишком просты и потому не очень полезны в жизни. Но если сложность модели растёт бесконтрольно, то тоже получается плохо.\n",
    "\n",
    "Давайте рассмотрим конкретный пример. Создадим классификатор, использующий одновременно `rubrics_id` и `features_id`. \n",
    "\n",
    "Сделайте следующее:\n",
    "\n",
    "- для каждого объекта обучающей выборки сконкатенируйте строку `rubrics_id` с разделителем (например, буквой 'q') и содержимым `features_id`. Полученный столбец озаглавьте `modified_features`. Это не самый клёвый способ заиспользовать все фичи, но сейчас пока сойдёт. Причём на сей раз не будем выкидывать мало представленные значения (вся информация важна, не так ли?).\n",
    "- при этом для тестовой выборке заменяйте на строку `other` все конкатенации, которые не встретились в обучающей выборке.\n",
    "\n",
    "То есть элементы в этом столбце будут иметь вид `other` или `30776 30774 q 3502045032 11741 3502045016 1046...`."
   ]
  },
  {
   "cell_type": "code",
   "execution_count": 6,
   "metadata": {
    "ExecuteTime": {
     "end_time": "2022-09-17T05:06:22.658376Z",
     "start_time": "2022-09-17T05:06:18.713461Z"
    }
   },
   "outputs": [],
   "source": [
    "clean_data_train['modified_features'] = clean_data_train.apply(lambda x: x['rubrics_id'] + ' q ' + x['features_id'], axis=1)\n",
    "li = list(clean_data_train['modified_features'])\n",
    "clean_data_test['modified_features'] = clean_data_test.apply(lambda x: y if ((y := x['rubrics_id'] + ' q ' + x['features_id']) in li) else 'other', axis=1)"
   ]
  },
  {
   "cell_type": "code",
   "execution_count": 7,
   "metadata": {
    "ExecuteTime": {
     "end_time": "2022-09-17T05:06:25.959826Z",
     "start_time": "2022-09-17T05:06:25.953752Z"
    }
   },
   "outputs": [],
   "source": [
    "from sklearn.base import ClassifierMixin\n",
    "\n",
    "class Kek(ClassifierMixin):\n",
    "    def fit(self, X=None, y=None):\n",
    "        self.med = X['average_bill'].median()\n",
    "        self.part_med = X.groupby('modified_features')['average_bill'].median()\n",
    "        \n",
    "    def predict(self, X=None):\n",
    "        return X.apply(lambda x: self.part_med[x['modified_features']] if x['modified_features'] != 'other' else self.med, axis=1)"
   ]
  },
  {
   "cell_type": "code",
   "execution_count": 11,
   "metadata": {
    "ExecuteTime": {
     "end_time": "2022-09-17T05:11:33.097955Z",
     "start_time": "2022-09-17T05:11:32.626247Z"
    }
   },
   "outputs": [
    {
     "name": "stdout",
     "output_type": "stream",
     "text": [
      "513.9898108867789\n",
      "32.4162067388783\n",
      "0.2010249213051401\n",
      "0.9931928777769354\n"
     ]
    },
    {
     "name": "stderr",
     "output_type": "stream",
     "text": [
      "/home/bogdan/anaconda3/envs/MLsem1_2022/lib/python3.10/site-packages/sklearn/metrics/_classification.py:1999: UserWarning: y_pred contains classes not in y_true\n",
      "  warnings.warn(\"y_pred contains classes not in y_true\")\n",
      "/home/bogdan/anaconda3/envs/MLsem1_2022/lib/python3.10/site-packages/sklearn/metrics/_classification.py:1999: UserWarning: y_pred contains classes not in y_true\n",
      "  warnings.warn(\"y_pred contains classes not in y_true\")\n"
     ]
    }
   ],
   "source": [
    "from sklearn.metrics import mean_squared_error\n",
    "from sklearn.metrics import balanced_accuracy_score\n",
    "\n",
    "kk = Kek()\n",
    "kk.fit(clean_data_train)\n",
    "\n",
    "prediction = kk.predict(clean_data_test)\n",
    "prediction_train = kk.predict(clean_data_train)\n",
    "\n",
    "print(np.sqrt(mean_squared_error(clean_data_test['average_bill'], prediction)))\n",
    "print(np.sqrt(mean_squared_error(clean_data_train['average_bill'], prediction_train)))\n",
    "   \n",
    "print(balanced_accuracy_score(clean_data_test['average_bill'], prediction))\n",
    "print(balanced_accuracy_score(clean_data_train['average_bill'], prediction_train))"
   ]
  },
  {
   "cell_type": "markdown",
   "metadata": {},
   "source": [
    "Теперь обучите классификатор, который для заведения предсказывает медиану среднего чека по всем объектам тестовой выборки с таким же, как у него, значением `modified_features`, а если такого в обучающей выборке нет, то глобальную медиану среднего чека по всей обучающей выборке.\n",
    "\n",
    "**9. (2 балла) Загрузите в Контест предсказания этого классификатора на тестовой выборке**\n",
    "\n",
    "Мы ждём файла **.csv**, у которого в каждой строке будет только одно число - предсказание классификатора.\n",
    "\n",
    "Возможно, вам будет полезна библиотека ``tqdm``, позволяющая отслеживать в реальном времени, сколько времени уже крутится цикл и сколько итераций ещё осталось. Впрочем, если вы всё написали нормально, то должно работать не очень долго."
   ]
  },
  {
   "cell_type": "markdown",
   "metadata": {},
   "source": [
    "Модель, очевидно, очень сложная. Число параметров (различных категорий) в ней сопоставимо с числом объектов в обучающей выборке. А получилось ли хорошо?\n",
    "\n",
    "Давайте посчитаем RMSE и balanced_accuracy_score на обучающей и на тестовой выборках. \n",
    "\n",
    "**10. (1 балл) Введите их в Контест**"
   ]
  },
  {
   "cell_type": "markdown",
   "metadata": {},
   "source": [
    "Налицо переобучение: на трейне метрики отличные, на тесте - вообще никакие\n",
    "\n",
    "В общем, не гонитесь за чрезмерной сложностью модели.."
   ]
  },
  {
   "cell_type": "markdown",
   "metadata": {},
   "source": [
    "## ML без данных что компутер без электричества"
   ]
  },
  {
   "cell_type": "markdown",
   "metadata": {},
   "source": [
    "Возможно, вы смотрите на полученные выше результаты и думаете: вот если бы мы не какие-то убогие медианы предсказывали, а гоняли бы нейросети, то тут-то бы всё и получилось!\n",
    "\n",
    "Но, увы, совсем даже не всегда от счастья нас отделяет выбор хорошей модели (и стратегии обучения). Если данные не очень, то даже самая крутая модель не сработает. В этой ситуации нужно либо добывать новые фичи каким-то образом, либо собирать новые данные (увеличивать датасет), либо просто бросать задачу.\n",
    "\n",
    "Давайте посмотрим, что выжмет из наших данных одна из самых мощных моделей для табличных данных - градиентный бустинг на решающих деревьях в исполнении [CatBoost](https://catboost.ai/)."
   ]
  },
  {
   "cell_type": "markdown",
   "metadata": {},
   "source": [
    "Но прежде, чем сделать fit, нам надо облагородить данные. Несмотря на то, что CatBoost отлично работает с категориальными фичами, мешок признаков из `rubrics_id` или `features_id` может ему оказаться не по зубам. Поэтому мы соберём датасет в пристойную матрицу, создав для каждого типа рубрик и фичей отдельный столбец и записав там единицы для тех объектов, у которых эта рубрика или фича имеет место.\n",
    "\n",
    "В матрице почти все элементы будут нулями. Такие матрицы считаются **разреженными** и их можно хранить гораздо эффективней, чем просто таблицей. Этим и займёмся)"
   ]
  },
  {
   "cell_type": "markdown",
   "metadata": {},
   "source": [
    "Есть несколько форматов хранения разреженных матриц (многие из них реализованы в [пакете sparse библиотеки scipy](https://docs.scipy.org/doc/scipy/reference/sparse.html)), и каждый пригоден для чего-то своего.\n",
    "\n",
    "Создавать разреженную матрицу лучше в [формате COO](https://docs.scipy.org/doc/scipy/reference/generated/scipy.sparse.coo_array.html#scipy.sparse.coo_array). Он предполагает, что разреженная матрица задаётся в виде трёх списков: `row`, `col`, `data`, причём каждая тройка `(row[i], col[i], data[i])` кодирует элемент со значением `data[i]`, стоящий на позиции `(row[i], col[i])`. Считается, что на позициях `(row, col)`, которые ни разу не встретились, стоят нули.\n",
    "\n",
    "Нетрудно видеть, что заполнять такую матрицу - одно удовольствие, и особенно этому помогает тот факт, что **пара `(row, col)` может встретиться несколько раз** (тогда в итоговой матрице на соответствующей позиции стоит сумма соответствующих `data[i]`). Но, с другой стороны, почти ничего другого с такой матрицей не сделаешь: произвольного доступа к элементам она не предоставляет, умножить её тоже особо ничего не умножишь. Поэтому для дальнейшего использования созданную таким образом матрицу преобразуют в один из более удобных форматов, например, [CSR (compressed sparse row)](https://scipy-lectures.org/advanced/scipy_sparse/csr_matrix.html). Он, к примеру, хорошо подходит для умножения на вектор (потому что матрица хранится по строкам). Не будем разбирать его подробно, но можете почитать по ссылке, если интересно."
   ]
  },
  {
   "cell_type": "markdown",
   "metadata": {},
   "source": [
    "Вам нужно будет превратить обучающие и тестовые данные в разреженные матрицы `sparse_data_train` и `sparse_data_test` соответственно, таким образом, что:\n",
    "\n",
    "- столбец `city` превратится в столбец из единиц и нулей (например, 1 - Москва, 0 - Питер);\n",
    "- столбец `rating` перекочует в разреженные матрицы без изменений;\n",
    "- каждый типы рубрик и каждая фича превратятся в отдельный 0-1-принак;\n",
    "\n",
    "В тестовой выборке будут фичи, которых в обучающей выборке не было. С ними можно по-разному работать, но давайте создадим дополнительную фантомную фичу `feature_other`, в которой будет то, сколько неизвестных по обучающей выборке фичей есть у данного объекта."
   ]
  },
  {
   "cell_type": "code",
   "execution_count": 6,
   "metadata": {
    "ExecuteTime": {
     "end_time": "2022-09-17T18:22:43.481310Z",
     "start_time": "2022-09-17T18:17:50.550433Z"
    }
   },
   "outputs": [],
   "source": [
    "from scipy.sparse import coo_array\n",
    "\n",
    "city = clean_data_train['city'].apply(lambda x: 1 if x == 'msk' else 0)\n",
    "\n",
    "row = np.zeros(city.to_numpy().nonzero()[0].shape[0])\n",
    "col = city.to_numpy().nonzero()[0]\n",
    "data = list(city.iloc[city.to_numpy().nonzero()[0]])\n",
    "\n",
    "rating = clean_data_train['rating']\n",
    "\n",
    "row = np.append(row, np.ones(rating.to_numpy().nonzero()[0].shape[0]))\n",
    "col = np.append(col, rating.to_numpy().nonzero()[0])\n",
    "data = np.append(data, list(rating.iloc[rating.to_numpy().nonzero()[0]]))\n",
    "\n",
    "index = 2\n",
    "for rub in list(rubrics['rubric_id']):\n",
    "    rubric = clean_data_train['rubrics_id'].apply(lambda x: 1 if str(rub) in x.split() else 0)\n",
    "    row = np.append(row, np.ones(rubric.to_numpy().nonzero()[0].shape[0]) * index)\n",
    "    col = np.append(col, rubric.to_numpy().nonzero()[0])\n",
    "    data = np.append(data, list(rubric.iloc[rubric.to_numpy().nonzero()[0]]))\n",
    "    index = index + 1\n",
    "\n",
    "for feat in list(features['feature_id']):\n",
    "    feature = clean_data_train['features_id'].apply(lambda x: 1 if str(feat) in x.split() else 0)\n",
    "    row = np.append(row, np.ones(feature.to_numpy().nonzero()[0].shape[0]) * index)\n",
    "    col = np.append(col, feature.to_numpy().nonzero()[0])\n",
    "    data = np.append(data, list(feature.iloc[feature.to_numpy().nonzero()[0]]))\n",
    "    index = index + 1\n",
    "\n",
    "features_from_train = []\n",
    "for i in list(clean_data_train['features_id']):\n",
    "    features_from_train = np.append(features_from_train, i.split())\n",
    "features_from_train = set(features_from_train)\n",
    "\n",
    "sparse_data_train = coo_array((data, (col, row)), shape=(clean_data_train['features_id'].count(), index + 1))"
   ]
  },
  {
   "cell_type": "markdown",
   "metadata": {},
   "source": [
    "Данные готовы, и теперь можно запустить катбуст"
   ]
  },
  {
   "cell_type": "code",
   "execution_count": 7,
   "metadata": {
    "ExecuteTime": {
     "end_time": "2022-09-17T18:23:21.064674Z",
     "start_time": "2022-09-17T18:23:03.644034Z"
    }
   },
   "outputs": [],
   "source": [
    "city = clean_data_test['city'].apply(lambda x: 1 if x == 'msk' else 0)\n",
    "\n",
    "row = np.zeros(city.to_numpy().nonzero()[0].shape[0])\n",
    "col = city.to_numpy().nonzero()[0]\n",
    "data = list(city.iloc[city.to_numpy().nonzero()[0]])\n",
    "\n",
    "index = 2\n",
    "rating = clean_data_test['rating']\n",
    "\n",
    "row = np.append(row, np.ones(rating.to_numpy().nonzero()[0].shape[0]))\n",
    "col = np.append(col, rating.to_numpy().nonzero()[0])\n",
    "data = np.append(data, list(rating.iloc[rating.to_numpy().nonzero()[0]]))\n",
    "\n",
    "for rub in list(rubrics['rubric_id']):\n",
    "    rubric = clean_data_test['rubrics_id'].apply(lambda x: 1 if str(rub) in x.split() else 0)\n",
    "    row = np.append(row, np.ones(rubric.to_numpy().nonzero()[0].shape[0]) * index)\n",
    "    col = np.append(col, rubric.to_numpy().nonzero()[0])\n",
    "    data = np.append(data, list(rubric.iloc[rubric.to_numpy().nonzero()[0]]))\n",
    "    index = index + 1\n",
    "\n",
    "\n",
    "for feat in list(features['feature_id']):\n",
    "    feature = clean_data_test['features_id'].apply(lambda x: 1 if ((str(feat) in x.split()) & (str(feat) in features_from_train)) else 0)\n",
    "    row = np.append(row, np.ones(feature.to_numpy().nonzero()[0].shape[0]) * index)\n",
    "    col = np.append(col, feature.to_numpy().nonzero()[0])\n",
    "    data = np.append(data, list(feature.iloc[feature.to_numpy().nonzero()[0]]))\n",
    "    index = index + 1\n"
   ]
  },
  {
   "cell_type": "code",
   "execution_count": 8,
   "metadata": {
    "ExecuteTime": {
     "end_time": "2022-09-17T18:23:29.115959Z",
     "start_time": "2022-09-17T18:23:29.047593Z"
    }
   },
   "outputs": [],
   "source": [
    "def f(x):\n",
    "    res = 0\n",
    "    for i in x:\n",
    "        if i in features_from_train:\n",
    "            res = res + 0\n",
    "        else:\n",
    "            res = res + 1\n",
    "    return res\n",
    "\n",
    "feature = clean_data_test['features_id'].apply(lambda x: f(x.split()))\n",
    "row = np.append(row, np.ones(feature.to_numpy().nonzero()[0].shape[0]) * index)\n",
    "col = np.append(col, feature.to_numpy().nonzero()[0])\n",
    "data = np.append(data, list(feature.iloc[feature.to_numpy().nonzero()[0]]))\n",
    "index = index + 1"
   ]
  },
  {
   "cell_type": "code",
   "execution_count": 9,
   "metadata": {
    "ExecuteTime": {
     "end_time": "2022-09-17T18:23:31.736184Z",
     "start_time": "2022-09-17T18:23:31.722381Z"
    }
   },
   "outputs": [],
   "source": [
    "sparse_data_test = coo_array((data, (col, row)), shape=(clean_data_test['features_id'].count(), index + 1))"
   ]
  },
  {
   "cell_type": "code",
   "execution_count": 14,
   "metadata": {
    "ExecuteTime": {
     "end_time": "2022-09-17T18:33:10.452677Z",
     "start_time": "2022-09-17T18:33:10.414129Z"
    }
   },
   "outputs": [],
   "source": [
    "from catboost import CatBoostClassifier"
   ]
  },
  {
   "cell_type": "code",
   "execution_count": 15,
   "metadata": {
    "ExecuteTime": {
     "end_time": "2022-09-17T18:34:05.554093Z",
     "start_time": "2022-09-17T18:33:14.648293Z"
    }
   },
   "outputs": [
    {
     "name": "stdout",
     "output_type": "stream",
     "text": [
      "Learning rate set to 0.092536\n",
      "0:\tlearn: 1.4334165\ttotal: 111ms\tremaining: 1m 50s\n",
      "1:\tlearn: 1.3145262\ttotal: 165ms\tremaining: 1m 22s\n",
      "2:\tlearn: 1.2288574\ttotal: 219ms\tremaining: 1m 12s\n",
      "3:\tlearn: 1.1591682\ttotal: 264ms\tremaining: 1m 5s\n",
      "4:\tlearn: 1.0992193\ttotal: 309ms\tremaining: 1m 1s\n",
      "5:\tlearn: 1.0489088\ttotal: 355ms\tremaining: 58.8s\n",
      "6:\tlearn: 1.0093941\ttotal: 407ms\tremaining: 57.8s\n",
      "7:\tlearn: 0.9721388\ttotal: 457ms\tremaining: 56.6s\n",
      "8:\tlearn: 0.9425146\ttotal: 497ms\tremaining: 54.8s\n",
      "9:\tlearn: 0.9163863\ttotal: 545ms\tremaining: 53.9s\n",
      "10:\tlearn: 0.8949027\ttotal: 589ms\tremaining: 52.9s\n",
      "11:\tlearn: 0.8749300\ttotal: 643ms\tremaining: 53s\n",
      "12:\tlearn: 0.8543692\ttotal: 691ms\tremaining: 52.4s\n",
      "13:\tlearn: 0.8387284\ttotal: 738ms\tremaining: 51.9s\n",
      "14:\tlearn: 0.8267485\ttotal: 781ms\tremaining: 51.3s\n",
      "15:\tlearn: 0.8110244\ttotal: 832ms\tremaining: 51.2s\n",
      "16:\tlearn: 0.7972798\ttotal: 889ms\tremaining: 51.4s\n",
      "17:\tlearn: 0.7860692\ttotal: 937ms\tremaining: 51.1s\n",
      "18:\tlearn: 0.7766800\ttotal: 981ms\tremaining: 50.7s\n",
      "19:\tlearn: 0.7675618\ttotal: 1.03s\tremaining: 50.4s\n",
      "20:\tlearn: 0.7594917\ttotal: 1.08s\tremaining: 50.3s\n",
      "21:\tlearn: 0.7531077\ttotal: 1.13s\tremaining: 50.4s\n",
      "22:\tlearn: 0.7475342\ttotal: 1.19s\tremaining: 50.3s\n",
      "23:\tlearn: 0.7406635\ttotal: 1.23s\tremaining: 50.2s\n",
      "24:\tlearn: 0.7338293\ttotal: 1.28s\tremaining: 49.9s\n",
      "25:\tlearn: 0.7301284\ttotal: 1.34s\tremaining: 50.2s\n",
      "26:\tlearn: 0.7241961\ttotal: 1.39s\tremaining: 50s\n",
      "27:\tlearn: 0.7197306\ttotal: 1.43s\tremaining: 49.7s\n",
      "28:\tlearn: 0.7149299\ttotal: 1.47s\tremaining: 49.4s\n",
      "29:\tlearn: 0.7120219\ttotal: 1.52s\tremaining: 49s\n",
      "30:\tlearn: 0.7091718\ttotal: 1.56s\tremaining: 48.9s\n",
      "31:\tlearn: 0.7065669\ttotal: 1.61s\tremaining: 48.7s\n",
      "32:\tlearn: 0.7032032\ttotal: 1.67s\tremaining: 48.8s\n",
      "33:\tlearn: 0.6990467\ttotal: 1.72s\tremaining: 48.8s\n",
      "34:\tlearn: 0.6978272\ttotal: 1.75s\tremaining: 48.4s\n",
      "35:\tlearn: 0.6939316\ttotal: 1.82s\tremaining: 48.7s\n",
      "36:\tlearn: 0.6916581\ttotal: 1.87s\tremaining: 48.6s\n",
      "37:\tlearn: 0.6896131\ttotal: 1.92s\tremaining: 48.6s\n",
      "38:\tlearn: 0.6886777\ttotal: 1.96s\tremaining: 48.4s\n",
      "39:\tlearn: 0.6868793\ttotal: 2.01s\tremaining: 48.2s\n",
      "40:\tlearn: 0.6856822\ttotal: 2.06s\tremaining: 48.3s\n",
      "41:\tlearn: 0.6843135\ttotal: 2.11s\tremaining: 48.1s\n",
      "42:\tlearn: 0.6827149\ttotal: 2.15s\tremaining: 47.9s\n",
      "43:\tlearn: 0.6820912\ttotal: 2.19s\tremaining: 47.6s\n",
      "44:\tlearn: 0.6796090\ttotal: 2.24s\tremaining: 47.5s\n",
      "45:\tlearn: 0.6782523\ttotal: 2.29s\tremaining: 47.4s\n",
      "46:\tlearn: 0.6776245\ttotal: 2.33s\tremaining: 47.2s\n",
      "47:\tlearn: 0.6758178\ttotal: 2.37s\tremaining: 47s\n",
      "48:\tlearn: 0.6742168\ttotal: 2.42s\tremaining: 46.9s\n",
      "49:\tlearn: 0.6727003\ttotal: 2.46s\tremaining: 46.8s\n",
      "50:\tlearn: 0.6712919\ttotal: 2.52s\tremaining: 46.9s\n",
      "51:\tlearn: 0.6707316\ttotal: 2.57s\tremaining: 46.9s\n",
      "52:\tlearn: 0.6703002\ttotal: 2.63s\tremaining: 46.9s\n",
      "53:\tlearn: 0.6689800\ttotal: 2.68s\tremaining: 47s\n",
      "54:\tlearn: 0.6682941\ttotal: 2.73s\tremaining: 46.9s\n",
      "55:\tlearn: 0.6674570\ttotal: 2.77s\tremaining: 46.8s\n",
      "56:\tlearn: 0.6664615\ttotal: 2.81s\tremaining: 46.6s\n",
      "57:\tlearn: 0.6651308\ttotal: 2.86s\tremaining: 46.5s\n",
      "58:\tlearn: 0.6645027\ttotal: 2.9s\tremaining: 46.3s\n",
      "59:\tlearn: 0.6641340\ttotal: 2.94s\tremaining: 46.1s\n",
      "60:\tlearn: 0.6634142\ttotal: 3s\tremaining: 46.2s\n",
      "61:\tlearn: 0.6620088\ttotal: 3.06s\tremaining: 46.4s\n",
      "62:\tlearn: 0.6614202\ttotal: 3.12s\tremaining: 46.4s\n",
      "63:\tlearn: 0.6606726\ttotal: 3.18s\tremaining: 46.5s\n",
      "64:\tlearn: 0.6596954\ttotal: 3.22s\tremaining: 46.4s\n",
      "65:\tlearn: 0.6580898\ttotal: 3.27s\tremaining: 46.3s\n",
      "66:\tlearn: 0.6567973\ttotal: 3.33s\tremaining: 46.4s\n",
      "67:\tlearn: 0.6566528\ttotal: 3.39s\tremaining: 46.4s\n",
      "68:\tlearn: 0.6564420\ttotal: 3.44s\tremaining: 46.4s\n",
      "69:\tlearn: 0.6560086\ttotal: 3.49s\tremaining: 46.3s\n",
      "70:\tlearn: 0.6549963\ttotal: 3.54s\tremaining: 46.3s\n",
      "71:\tlearn: 0.6543869\ttotal: 3.59s\tremaining: 46.2s\n",
      "72:\tlearn: 0.6536147\ttotal: 3.65s\tremaining: 46.4s\n",
      "73:\tlearn: 0.6522214\ttotal: 3.73s\tremaining: 46.7s\n",
      "74:\tlearn: 0.6508190\ttotal: 3.78s\tremaining: 46.6s\n",
      "75:\tlearn: 0.6507721\ttotal: 3.83s\tremaining: 46.5s\n",
      "76:\tlearn: 0.6496945\ttotal: 3.89s\tremaining: 46.7s\n",
      "77:\tlearn: 0.6495173\ttotal: 3.95s\tremaining: 46.7s\n",
      "78:\tlearn: 0.6489869\ttotal: 4s\tremaining: 46.7s\n",
      "79:\tlearn: 0.6485554\ttotal: 4.05s\tremaining: 46.5s\n",
      "80:\tlearn: 0.6471366\ttotal: 4.11s\tremaining: 46.6s\n",
      "81:\tlearn: 0.6465410\ttotal: 4.17s\tremaining: 46.7s\n",
      "82:\tlearn: 0.6458352\ttotal: 4.22s\tremaining: 46.6s\n",
      "83:\tlearn: 0.6451315\ttotal: 4.28s\tremaining: 46.7s\n",
      "84:\tlearn: 0.6445906\ttotal: 4.34s\tremaining: 46.7s\n",
      "85:\tlearn: 0.6441402\ttotal: 4.4s\tremaining: 46.8s\n",
      "86:\tlearn: 0.6436055\ttotal: 4.45s\tremaining: 46.7s\n",
      "87:\tlearn: 0.6434057\ttotal: 4.5s\tremaining: 46.6s\n",
      "88:\tlearn: 0.6430866\ttotal: 4.56s\tremaining: 46.7s\n",
      "89:\tlearn: 0.6425804\ttotal: 4.62s\tremaining: 46.7s\n",
      "90:\tlearn: 0.6421317\ttotal: 4.67s\tremaining: 46.6s\n",
      "91:\tlearn: 0.6413036\ttotal: 4.73s\tremaining: 46.7s\n",
      "92:\tlearn: 0.6411155\ttotal: 4.79s\tremaining: 46.7s\n",
      "93:\tlearn: 0.6407050\ttotal: 4.83s\tremaining: 46.6s\n",
      "94:\tlearn: 0.6403472\ttotal: 4.88s\tremaining: 46.5s\n",
      "95:\tlearn: 0.6396788\ttotal: 4.95s\tremaining: 46.6s\n",
      "96:\tlearn: 0.6386588\ttotal: 5.01s\tremaining: 46.7s\n",
      "97:\tlearn: 0.6378886\ttotal: 5.07s\tremaining: 46.7s\n",
      "98:\tlearn: 0.6366595\ttotal: 5.15s\tremaining: 46.8s\n",
      "99:\tlearn: 0.6365244\ttotal: 5.2s\tremaining: 46.8s\n",
      "100:\tlearn: 0.6359867\ttotal: 5.25s\tremaining: 46.8s\n",
      "101:\tlearn: 0.6354359\ttotal: 5.32s\tremaining: 46.8s\n",
      "102:\tlearn: 0.6352511\ttotal: 5.38s\tremaining: 46.8s\n",
      "103:\tlearn: 0.6334653\ttotal: 5.44s\tremaining: 46.9s\n",
      "104:\tlearn: 0.6332985\ttotal: 5.5s\tremaining: 46.9s\n",
      "105:\tlearn: 0.6326214\ttotal: 5.57s\tremaining: 46.9s\n",
      "106:\tlearn: 0.6319366\ttotal: 5.63s\tremaining: 47s\n",
      "107:\tlearn: 0.6314483\ttotal: 5.68s\tremaining: 46.9s\n",
      "108:\tlearn: 0.6311149\ttotal: 5.74s\tremaining: 46.9s\n",
      "109:\tlearn: 0.6304022\ttotal: 5.8s\tremaining: 46.9s\n",
      "110:\tlearn: 0.6303193\ttotal: 5.84s\tremaining: 46.8s\n",
      "111:\tlearn: 0.6302188\ttotal: 5.89s\tremaining: 46.7s\n",
      "112:\tlearn: 0.6300268\ttotal: 5.93s\tremaining: 46.5s\n",
      "113:\tlearn: 0.6295307\ttotal: 5.98s\tremaining: 46.5s\n",
      "114:\tlearn: 0.6292342\ttotal: 6.02s\tremaining: 46.3s\n",
      "115:\tlearn: 0.6286377\ttotal: 6.07s\tremaining: 46.3s\n",
      "116:\tlearn: 0.6283807\ttotal: 6.12s\tremaining: 46.2s\n",
      "117:\tlearn: 0.6274546\ttotal: 6.17s\tremaining: 46.1s\n",
      "118:\tlearn: 0.6270979\ttotal: 6.21s\tremaining: 46s\n",
      "119:\tlearn: 0.6263599\ttotal: 6.26s\tremaining: 45.9s\n",
      "120:\tlearn: 0.6255554\ttotal: 6.31s\tremaining: 45.8s\n",
      "121:\tlearn: 0.6254671\ttotal: 6.35s\tremaining: 45.7s\n",
      "122:\tlearn: 0.6252842\ttotal: 6.39s\tremaining: 45.5s\n",
      "123:\tlearn: 0.6245938\ttotal: 6.44s\tremaining: 45.5s\n",
      "124:\tlearn: 0.6243597\ttotal: 6.48s\tremaining: 45.4s\n",
      "125:\tlearn: 0.6241398\ttotal: 6.52s\tremaining: 45.2s\n",
      "126:\tlearn: 0.6238092\ttotal: 6.57s\tremaining: 45.1s\n",
      "127:\tlearn: 0.6236470\ttotal: 6.61s\tremaining: 45s\n",
      "128:\tlearn: 0.6235175\ttotal: 6.65s\tremaining: 44.9s\n",
      "129:\tlearn: 0.6229456\ttotal: 6.7s\tremaining: 44.8s\n",
      "130:\tlearn: 0.6228912\ttotal: 6.74s\tremaining: 44.7s\n",
      "131:\tlearn: 0.6224049\ttotal: 6.78s\tremaining: 44.6s\n",
      "132:\tlearn: 0.6218389\ttotal: 6.83s\tremaining: 44.5s\n",
      "133:\tlearn: 0.6216990\ttotal: 6.87s\tremaining: 44.4s\n",
      "134:\tlearn: 0.6213663\ttotal: 6.93s\tremaining: 44.4s\n",
      "135:\tlearn: 0.6212066\ttotal: 6.97s\tremaining: 44.3s\n",
      "136:\tlearn: 0.6209773\ttotal: 7.02s\tremaining: 44.2s\n",
      "137:\tlearn: 0.6207565\ttotal: 7.06s\tremaining: 44.1s\n",
      "138:\tlearn: 0.6206158\ttotal: 7.11s\tremaining: 44.1s\n",
      "139:\tlearn: 0.6198944\ttotal: 7.17s\tremaining: 44s\n",
      "140:\tlearn: 0.6196431\ttotal: 7.21s\tremaining: 43.9s\n",
      "141:\tlearn: 0.6191246\ttotal: 7.26s\tremaining: 43.8s\n",
      "142:\tlearn: 0.6189899\ttotal: 7.3s\tremaining: 43.8s\n",
      "143:\tlearn: 0.6189211\ttotal: 7.35s\tremaining: 43.7s\n",
      "144:\tlearn: 0.6186669\ttotal: 7.4s\tremaining: 43.6s\n",
      "145:\tlearn: 0.6182068\ttotal: 7.45s\tremaining: 43.6s\n",
      "146:\tlearn: 0.6178869\ttotal: 7.49s\tremaining: 43.5s\n",
      "147:\tlearn: 0.6171807\ttotal: 7.54s\tremaining: 43.4s\n",
      "148:\tlearn: 0.6170062\ttotal: 7.6s\tremaining: 43.4s\n",
      "149:\tlearn: 0.6164137\ttotal: 7.64s\tremaining: 43.3s\n",
      "150:\tlearn: 0.6159341\ttotal: 7.69s\tremaining: 43.2s\n",
      "151:\tlearn: 0.6158703\ttotal: 7.73s\tremaining: 43.1s\n",
      "152:\tlearn: 0.6154946\ttotal: 7.77s\tremaining: 43s\n",
      "153:\tlearn: 0.6149191\ttotal: 7.82s\tremaining: 42.9s\n",
      "154:\tlearn: 0.6143055\ttotal: 7.86s\tremaining: 42.9s\n",
      "155:\tlearn: 0.6140951\ttotal: 7.9s\tremaining: 42.8s\n",
      "156:\tlearn: 0.6136648\ttotal: 7.95s\tremaining: 42.7s\n",
      "157:\tlearn: 0.6133553\ttotal: 7.99s\tremaining: 42.6s\n",
      "158:\tlearn: 0.6132345\ttotal: 8.04s\tremaining: 42.5s\n",
      "159:\tlearn: 0.6131636\ttotal: 8.09s\tremaining: 42.5s\n",
      "160:\tlearn: 0.6128829\ttotal: 8.15s\tremaining: 42.5s\n",
      "161:\tlearn: 0.6127644\ttotal: 8.2s\tremaining: 42.4s\n"
     ]
    },
    {
     "name": "stdout",
     "output_type": "stream",
     "text": [
      "162:\tlearn: 0.6126659\ttotal: 8.26s\tremaining: 42.4s\n",
      "163:\tlearn: 0.6125243\ttotal: 8.31s\tremaining: 42.4s\n",
      "164:\tlearn: 0.6122226\ttotal: 8.37s\tremaining: 42.4s\n",
      "165:\tlearn: 0.6117856\ttotal: 8.42s\tremaining: 42.3s\n",
      "166:\tlearn: 0.6117316\ttotal: 8.46s\tremaining: 42.2s\n",
      "167:\tlearn: 0.6112826\ttotal: 8.51s\tremaining: 42.2s\n",
      "168:\tlearn: 0.6108228\ttotal: 8.57s\tremaining: 42.2s\n",
      "169:\tlearn: 0.6105985\ttotal: 8.65s\tremaining: 42.2s\n",
      "170:\tlearn: 0.6104349\ttotal: 8.7s\tremaining: 42.2s\n",
      "171:\tlearn: 0.6103169\ttotal: 8.75s\tremaining: 42.1s\n",
      "172:\tlearn: 0.6101609\ttotal: 8.81s\tremaining: 42.1s\n",
      "173:\tlearn: 0.6096736\ttotal: 8.88s\tremaining: 42.1s\n",
      "174:\tlearn: 0.6094271\ttotal: 8.93s\tremaining: 42.1s\n",
      "175:\tlearn: 0.6092168\ttotal: 8.97s\tremaining: 42s\n",
      "176:\tlearn: 0.6090847\ttotal: 9.03s\tremaining: 42s\n",
      "177:\tlearn: 0.6089183\ttotal: 9.09s\tremaining: 42s\n",
      "178:\tlearn: 0.6084528\ttotal: 9.15s\tremaining: 42s\n",
      "179:\tlearn: 0.6081408\ttotal: 9.2s\tremaining: 41.9s\n",
      "180:\tlearn: 0.6077756\ttotal: 9.25s\tremaining: 41.9s\n",
      "181:\tlearn: 0.6076334\ttotal: 9.31s\tremaining: 41.8s\n",
      "182:\tlearn: 0.6072594\ttotal: 9.37s\tremaining: 41.8s\n",
      "183:\tlearn: 0.6072174\ttotal: 9.42s\tremaining: 41.8s\n",
      "184:\tlearn: 0.6071307\ttotal: 9.46s\tremaining: 41.7s\n",
      "185:\tlearn: 0.6068525\ttotal: 9.5s\tremaining: 41.6s\n",
      "186:\tlearn: 0.6066177\ttotal: 9.55s\tremaining: 41.5s\n",
      "187:\tlearn: 0.6065656\ttotal: 9.59s\tremaining: 41.4s\n",
      "188:\tlearn: 0.6062438\ttotal: 9.63s\tremaining: 41.3s\n",
      "189:\tlearn: 0.6057455\ttotal: 9.68s\tremaining: 41.3s\n",
      "190:\tlearn: 0.6054914\ttotal: 9.74s\tremaining: 41.3s\n",
      "191:\tlearn: 0.6052303\ttotal: 9.8s\tremaining: 41.3s\n",
      "192:\tlearn: 0.6049888\ttotal: 9.86s\tremaining: 41.2s\n",
      "193:\tlearn: 0.6047629\ttotal: 9.91s\tremaining: 41.2s\n",
      "194:\tlearn: 0.6046454\ttotal: 9.96s\trema"
     ]
    },
    {
     "data": {
      "text/html": [
       "<b>limit_output extension: Maximum message size of 10000 exceeded with 10061 characters</b>"
      ]
     },
     "metadata": {},
     "output_type": "display_data"
    }
   ],
   "source": [
    "# <USE IT!>\n",
    "clf = CatBoostClassifier()\n",
    "clf.fit(sparse_data_train, clean_data_train['average_bill'])"
   ]
  },
  {
   "cell_type": "code",
   "execution_count": 16,
   "metadata": {
    "ExecuteTime": {
     "end_time": "2022-09-17T18:34:15.599222Z",
     "start_time": "2022-09-17T18:34:15.466946Z"
    }
   },
   "outputs": [
    {
     "data": {
      "text/plain": [
       "0.3630195669800378"
      ]
     },
     "execution_count": 16,
     "metadata": {},
     "output_type": "execute_result"
    }
   ],
   "source": [
    "from sklearn.metrics import balanced_accuracy_score\n",
    "\n",
    "balanced_accuracy_score(clean_data_test['average_bill'], clf.predict(sparse_data_test))"
   ]
  },
  {
   "cell_type": "markdown",
   "metadata": {},
   "source": [
    "**11. (2 балла) Пришлите в Контест balanced_accuracy_score на тестовой выборке, округлённый до двух знаков после запятой**. Стало ли сильно лучше от того, что мы воспользовались таким крутым классификатором?"
   ]
  }
 ],
 "metadata": {
  "kernelspec": {
   "display_name": "Python 3 (ipykernel)",
   "language": "python",
   "name": "python3"
  },
  "language_info": {
   "codemirror_mode": {
    "name": "ipython",
    "version": 3
   },
   "file_extension": ".py",
   "mimetype": "text/x-python",
   "name": "python",
   "nbconvert_exporter": "python",
   "pygments_lexer": "ipython3",
   "version": "3.10.4"
  }
 },
 "nbformat": 4,
 "nbformat_minor": 4
}
