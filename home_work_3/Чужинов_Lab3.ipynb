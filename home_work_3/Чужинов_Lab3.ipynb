{
 "cells": [
  {
   "cell_type": "markdown",
   "id": "fifteen-broad",
   "metadata": {
    "id": "fifteen-broad"
   },
   "source": [
    "# ШАД. Машинное обучение\n",
    "\n",
    "## Лабораторная работа 3. Байесовский подход\n",
    "\n",
    "**Правила:**\n",
    "\n",
    "* Выполненную работу нужно отправить в соответствующее задание в личном кабинете\n",
    "* Дедлайн **02.10.2022 в 23:59**. После дедлайна работы не принимаются кроме случаев наличия уважительной причины.\n",
    "* Прислать нужно ноутбук в формате `ipynb`.\n",
    "* Теоретическую часть можно оформить в ноутбуке или же прислать в задание фотографии\n",
    "* Если вы прикрепляете фотографии к ноутбуку, убедитесь, что они \"вшиты\" туда, а не ссылаются на локальный путь\n",
    "* Решения, размещенные на каких-либо интернет-ресурсах не принимаются. Публикация решения может быть приравнена к предоставлении возможности списать.\n",
    "* Для выполнения задания используйте этот ноутбук в качестве основы, ничего не удаляя из него.\n",
    "* За задание можно получить до **13 баллов**."
   ]
  },
  {
   "cell_type": "markdown",
   "id": "4445a91b",
   "metadata": {},
   "source": [
    "### Задача Т1 (3 балла)\n",
    "\n",
    "Пусть $X_1, \\dots, X_n$ &mdash; выборка из распределения $\\mathcal{N}(\\theta, 1)$. Найдите апостериорное распределение параметра $\\theta$ и его математическое ожидание, если априорное распределение $\\theta \\sim \\text{Bern}(p)$."
   ]
  },
  {
   "cell_type": "markdown",
   "id": "65d1ff3c",
   "metadata": {},
   "source": [
    "***Решение:***"
   ]
  },
  {
   "cell_type": "markdown",
   "id": "3bf4fa31",
   "metadata": {},
   "source": [
    "В лекционных обозначениях $q(0)=1-p$ и $q(1)=p$, тогда\n",
    "$$\\begin{align*}\n",
    "q(0|X)=z(1-p)\\cdot\\dfrac{1}{(2\\pi)^{n/2}}\\exp\\left(-\\sum\\limits_{i=1}^n\\frac{x_i^2}{4}\\right)\\\\\n",
    "q(1|X)=zp\\cdot\\dfrac{1}{(2\\pi)^{n/2}}\\exp\\left(-\\sum\\limits_{i=1}^n\\frac{(x_i-1)^2}{4}\\right),\n",
    "\\end{align*}$$\n",
    "где \n",
    "$$z^{-1}=(1-p)\\cdot\\dfrac{1}{(2\\pi)^{n/2}}\\exp\\left(-\\sum\\limits_{i=1}^n\\frac{x_i^2}{4}\\right)+p\\cdot\\dfrac{1}{(2\\pi)^{n/2}}\\exp\\left(-\\sum\\limits_{i=1}^n\\frac{(x_i-1)^2}{4}\\right).$$\n",
    "\n",
    "Из упрощений могу предложить только то, что множители $\\dfrac{1}{(2\\pi)^{n/2}}$ сократятся при делении.\n",
    "\n",
    "С матожиданием все просто: $\\mathbb{E}(\\theta|X)=q(1|X)$."
   ]
  },
  {
   "cell_type": "markdown",
   "id": "2b86bbdc",
   "metadata": {},
   "source": [
    "### Задача Т2 (3 балла)\n",
    "\n",
    "Пусть $X_1, \\dots, X_n$ &mdash; выборка из распределения $\\text{Bin}(m, p)$, $m$ известно. Подберите сопряжённое распределение и найдите апостериорное распределение параметра $p$, точечные оценки на его основе (моду, медиану, математическое ожидание), а также доверительный интервал, построенный по апостериорному распределению.\n",
    "\n",
    "Замечания:\n",
    "- Можете начать решать задачу с $m=1$\n",
    "- Формулы для характеристик известных распределений можно не доказывать"
   ]
  },
  {
   "cell_type": "markdown",
   "id": "afc837f6",
   "metadata": {},
   "source": [
    "***Решение:***"
   ]
  },
  {
   "cell_type": "markdown",
   "id": "066ff0e8",
   "metadata": {},
   "source": [
    "Хотим найти функцию $q(t)$ такую, что $q(t|X)\\propto q(t)p_t(X)$ \"была похожа\" на $q(t)$.\n",
    "\n",
    "Нам известно, что $p_t(k)=C_m^kt^k(1-t)^{n-k}$ для $k=0,1,\\ldots,m$. Тогда \n",
    "$p_t(X)=\\gamma t^{n\\overline{X}}(1-t)^{nm-n\\overline{X}}$, где $\\gamma = \\prod_{i=1}^nC_m^{X_i}$.\n",
    "\n",
    "Последнее \"сильно похоже\" на плотность бета распределения. Поэтому кандидат --- семейство бета-распределений $q_{\\alpha, \\beta}(t)=\\dfrac{1}{B(\\alpha,\\beta)}t^{\\alpha-1}(1-t)^{\\beta-1}$ для $\\alpha,\\beta>0$.\n",
    "\n",
    "Проверим, верны ли наши предположения:\n",
    "\n",
    "$$q(t|X)=zq_{\\alpha, \\beta}(t)p_t(X)=z\\dfrac{1}{B(\\alpha,\\beta)}t^{\\alpha-1}(1-t)^{\\beta-1}\\gamma t^{n\\overline{X}}(1-t)^{nm-n\\overline{X}}=\\dfrac{z\\gamma}{B(\\alpha,\\beta)}t^{\\alpha+n\\overline{X}-1}(1-t)^{\\beta+nm-n\\overline{X}-1},$$\n",
    "где \n",
    "$$z^{-1}=\\dfrac{\\gamma}{B(\\alpha,\\beta)}\\int\\limits_0^1t^{\\alpha+n\\overline{X}-1}(1-t)^{\\beta+nm-n\\overline{X}-1}\\,dt=\\dfrac{\\gamma B(\\alpha+n\\overline{X}, \\beta+nm-n\\overline{X})}{B(\\alpha,\\beta)}$$\n",
    "\n",
    "Т.о. $q(t|X)=\\dfrac{t^{\\alpha+n\\overline{X}-1}(1-t)^{\\beta+nm-n\\overline{X}-1}}{B(\\alpha+n\\overline{X}, \\beta+nm-n\\overline{X})}$. А значит сопряженное семейство найдено.\n",
    "\n",
    "Найдем точечную оценку на основе матожидания:\n",
    "\n",
    "$$\\widehat{p}=\\dfrac{\\alpha+n\\overline{X}}{\\alpha+\\beta+nm}$$\n",
    "\n",
    "Медианная оценка строится по определению квантили уровня $\\frac{1}{2}$."
   ]
  },
  {
   "cell_type": "markdown",
   "id": "lined-sailing",
   "metadata": {},
   "source": [
    "### Задача 1 (7 баллов)"
   ]
  },
  {
   "cell_type": "markdown",
   "id": "italian-filing",
   "metadata": {},
   "source": [
    "Рассмотрим схему испытаний Бернулли (т.е. броски монет) с вероятностью успеха $p$. \n",
    "\n",
    "**1)** Постройте несколько графиков сопряженного распределения для разных параметров и **охарактеризуйте**, как его значения параметров соотносятся с априорными знаниями о монете.\n",
    "Можно рассмотреть следующие случаи.\n",
    "* Монета скорее честная. Тогда наиболее вероятны значения $p$ в окрестности $0.5$.\n",
    "* Монета скорее нечестная, перевес неизвестен. Тогда наименее вероятны значения $p$ в окрестности $0.5$.\n",
    "* Монета скорее нечестная, перевес в сторону герба. Тогда наиболее вероятны значения $p$ в окрестности $1$.\n",
    "* Монета скорее честная, либо с небольшим перекосом вправо. Тогда наиболее вероятны значения $p$ в окрестности $\\approx 0.6$.\n",
    "* Ничего не известно. Тогда все значния равновероятны.\n",
    "\n",
    "Для каждого случая из перечисленных выше постройте график плотности сопряженного распределения (на одной фигуре)."
   ]
  },
  {
   "cell_type": "code",
   "execution_count": null,
   "id": "minor-wesley",
   "metadata": {},
   "outputs": [],
   "source": [
    "<...>"
   ]
  },
  {
   "cell_type": "markdown",
   "id": "sitting-bridges",
   "metadata": {},
   "source": [
    "**Вывод:** <...>"
   ]
  },
  {
   "cell_type": "markdown",
   "id": "caroline-ghost",
   "metadata": {},
   "source": [
    "Ниже приведена реализация некоторых вспомогательных функций."
   ]
  },
  {
   "cell_type": "code",
   "execution_count": null,
   "id": "present-civilization",
   "metadata": {},
   "outputs": [],
   "source": [
    "def draw_posteriori(grid, distr_class, post_params, xlim=None):\n",
    "    '''\n",
    "    Рисует серию графиков апостериорных плотностей.\n",
    "    \n",
    "    :param grid: сетка для построения графика\n",
    "    :param distr_class: класс распределений из scipy.stats\n",
    "    :param post_params: параметры апостериорных распределений \n",
    "        shape=(размер выборки, кол-во параметров)\n",
    "    '''\n",
    "    \n",
    "    \n",
    "    size = post_params.shape[0] - 1\n",
    "    \n",
    "    plt.figure(figsize=(12, 7))\n",
    "    for n in range(size+1):\n",
    "        plt.plot(grid, \n",
    "                 distr_class(post_params[n]).pdf(grid) \\\n",
    "                     if np.isscalar(post_params[n]) \\\n",
    "                     else distr_class(*post_params[n]).pdf(grid), \n",
    "                 label='n={}: {}'.format(n, np.round(post_params[n], 3)), \n",
    "                 lw=2.5,\n",
    "                 color=(1-n/size, n/size, 0))\n",
    "    plt.title('Апостериорное распределение в зависимости от размера выборки')\n",
    "    plt.legend()\n",
    "    plt.xlim(xlim)\n",
    "    plt.show()\n",
    "    \n",
    "\n",
    "def draw_estimations(ml, distr_class, post_params, confint=True, ylim=None):\n",
    "    '''\n",
    "    Рисует графики байесовской оценки (м.о. и дов. инт.) и ОМП.\n",
    "    \n",
    "    :param ml: оценка максимального правдоподобия для 1 <= n <= len(sample)\n",
    "    :param distr_class: класс распределений из scipy.stats\n",
    "    :param post_params: параметры апостериорных распределений \n",
    "        shape=(размер выборки, кол-во параметров)\n",
    "    '''\n",
    "    \n",
    "    size = len(ml)\n",
    "    distrs = []\n",
    "    for n in range(size+1): \n",
    "        distrs.append(distr_class(post_params[n]) \\\n",
    "                          if np.isscalar(post_params[n]) \\\n",
    "                          else distr_class(*post_params[n]))\n",
    "    \n",
    "    plt.figure(figsize=(12, 4))\n",
    "    plt.plot(np.arange(size+1), [d.mean() for d in distrs], \n",
    "             label='Bayes', lw=2.5)\n",
    "    plt.fill_between(np.arange(size+1), [d.ppf(0.975) for d in distrs], \n",
    "                     [d.ppf(0.025) for d in distrs], alpha=0.3)\n",
    "    plt.plot(np.arange(size)+1, ml, label='MLE', lw=2.5)\n",
    "    plt.title('Оценки параметра в зависимости от размера выборки')\n",
    "    plt.xlabel('Размер выборки')\n",
    "    plt.ylim(ylim)\n",
    "    plt.legend()\n",
    "    plt.show()"
   ]
  },
  {
   "cell_type": "markdown",
   "id": "republican-circus",
   "metadata": {},
   "source": [
    "Реализуйте следующую функцию"
   ]
  },
  {
   "cell_type": "code",
   "execution_count": null,
   "id": "composed-mailman",
   "metadata": {},
   "outputs": [],
   "source": [
    "def bern_posterior_params(sample, a, b):\n",
    "    '''\n",
    "    Находит параметры апостериорного распределения \n",
    "        для всех 0 <= n <= len(sample). \n",
    "    \n",
    "    :param sample: выборка\n",
    "    :param a: параметр alpha априорного распределения\n",
    "    :param b: параметр beta априорного распределения\n",
    "    \n",
    "    :returns: параметры апостериорного\n",
    "    '''\n",
    "    \n",
    "    <...>\n",
    "    return params"
   ]
  },
  {
   "cell_type": "markdown",
   "id": "isolated-million",
   "metadata": {},
   "source": [
    "**2)** Проведите по 15 бросков симметричной и несимметричной монет (можно сгенерировать) и рассмотрите для каждой из них два случая — параметры априорного распределения подобраны правильно или неправильно.\n",
    "Постройте графики, воспользовавшись функциями `draw_posteriori` и `draw_estimations`."
   ]
  },
  {
   "cell_type": "code",
   "execution_count": null,
   "id": "previous-television",
   "metadata": {},
   "outputs": [],
   "source": [
    "<...>"
   ]
  },
  {
   "cell_type": "markdown",
   "id": "previous-ivory",
   "metadata": {},
   "source": [
    "Сделайте вывод. Что можно сказать про зависимость от параметров априорного распределения? Сравните байесовские оценки с оценкой максимального правдоподобия параметра $p$. "
   ]
  },
  {
   "cell_type": "markdown",
   "id": "encouraging-clerk",
   "metadata": {},
   "source": [
    "**Вывод:** <...>"
   ]
  }
 ],
 "metadata": {
  "colab": {
   "name": "Untitled.ipynb",
   "provenance": []
  },
  "kernelspec": {
   "display_name": "Python 3 (ipykernel)",
   "language": "python",
   "name": "python3"
  },
  "language_info": {
   "codemirror_mode": {
    "name": "ipython",
    "version": 3
   },
   "file_extension": ".py",
   "mimetype": "text/x-python",
   "name": "python",
   "nbconvert_exporter": "python",
   "pygments_lexer": "ipython3",
   "version": "3.10.4"
  }
 },
 "nbformat": 4,
 "nbformat_minor": 5
}
