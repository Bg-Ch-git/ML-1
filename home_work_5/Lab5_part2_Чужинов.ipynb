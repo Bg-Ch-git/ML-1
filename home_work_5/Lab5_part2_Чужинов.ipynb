{
 "cells": [
  {
   "cell_type": "markdown",
   "id": "recorded-outside",
   "metadata": {},
   "source": [
    "## Лабораторная работа 5. Часть 2."
   ]
  },
  {
   "cell_type": "code",
   "execution_count": 52,
   "id": "novel-miracle",
   "metadata": {
    "ExecuteTime": {
     "end_time": "2022-10-15T14:35:25.228050Z",
     "start_time": "2022-10-15T14:35:25.220488Z"
    }
   },
   "outputs": [],
   "source": [
    "import numpy as np\n",
    "import pandas as pd\n",
    "import scipy\n",
    "import scipy.stats as sps\n",
    "\n",
    "import matplotlib.pyplot as plt\n",
    "import seaborn as sns\n",
    "\n",
    "from sklearn.metrics import (\n",
    "    accuracy_score, precision_score, recall_score, f1_score, roc_auc_score,\n",
    "    confusion_matrix, fbeta_score, roc_curve, precision_recall_curve, auc, \n",
    "    average_precision_score\n",
    ")\n",
    "\n",
    "from sklearn.datasets import load_breast_cancer\n",
    "from sklearn.preprocessing import StandardScaler\n",
    "from sklearn.model_selection import train_test_split\n",
    "\n",
    "import warnings\n",
    "warnings.filterwarnings('ignore')\n",
    "\n",
    "%matplotlib inline\n",
    "sns.set_style(\"dark\")\n",
    "sns.set(font_scale=1.6)"
   ]
  },
  {
   "cell_type": "markdown",
   "id": "billion-gnome",
   "metadata": {},
   "source": [
    "## Задача 1\n",
    "\n",
    "Реализуйте логистическую регрессию с $\\ell_2$ регуляризацией для поиска оценки параметров с помощью стохастического mini-batch градиентного спуска (SGD)."
   ]
  },
  {
   "cell_type": "code",
   "execution_count": 40,
   "id": "interested-backup",
   "metadata": {
    "ExecuteTime": {
     "end_time": "2022-10-15T13:16:34.493736Z",
     "start_time": "2022-10-15T13:16:34.459337Z"
    },
    "colab": {},
    "colab_type": "code",
    "id": "d4xxxebKnQLm"
   },
   "outputs": [],
   "source": [
    "class LogisticRegression():\n",
    "    '''\n",
    "    Модель логистической регрессии. Имеет следующие гиперпараметры:\n",
    "\n",
    "    :param alpha: параметр регуляризации. \n",
    "                  Если равно 0, то регуляризация не происходит.\n",
    "    :param lr: константа, на которую домножаем градиент при обучении\n",
    "    :param max_iter: ограничение на кол-во итераций\n",
    "    :param fit_intercept: указывает, следует ли добавить константу в признаки\n",
    "    :param batch_size: размер батча\n",
    "    '''\n",
    "\n",
    "    def __init__(self, alpha=0, lr=0.5, max_iter=1e5,\n",
    "                 fit_intercept=True, batch_size=30):\n",
    "        '''Создает модель и инициализирует параметры.'''\n",
    "\n",
    "        self.alpha = alpha\n",
    "        self.lr = lr\n",
    "        self.max_iter = max_iter\n",
    "        self.fit_intercept = fit_intercept\n",
    "        self.batch_size = batch_size\n",
    "\n",
    "    @staticmethod\n",
    "    def _sigmoid(x):\n",
    "        return scipy.special.expit(x)\n",
    "    \n",
    "    def _grad_fit_int(self, X, Y, W, lam):\n",
    "        res = X.T.dot(Y - self._sigmoid(X.dot(W))) - 2 * lam * W\n",
    "        res[-1] = res[-1] + 2 * lam * W[-1]\n",
    "        return res\n",
    "    \n",
    "    def _grad(self, X, Y, W, lam):\n",
    "        return X.T.dot(Y - self._sigmoid(X.dot(W))) - 2 * lam * W\n",
    "\n",
    "    def _add_intercept(self, X):\n",
    "        '''\n",
    "        Добавляем свободный коэффициент к нашей модели. \n",
    "        Это происходит путем добавления вектора из 1 к исходной матрице.\n",
    "\n",
    "        :param X: исходная матрица признаков\n",
    "        :return: матрица X с добавленным свободным коэффициентов\n",
    "        '''\n",
    "\n",
    "        X_copy = np.full((X.shape[0], X.shape[1] + 1), fill_value=1)\n",
    "        X_copy[:, :-1] = X\n",
    "\n",
    "        return X_copy\n",
    "\n",
    "    def fit(self, X, Y):\n",
    "        '''\n",
    "        Обучает модель логистической регресии с помощью SGD,\n",
    "        пока не выполнится self.max_iter итераций.\n",
    "\n",
    "        :param X: матрица признаков\n",
    "        :param Y: истинные метки\n",
    "        '''\n",
    "\n",
    "        assert X.shape[0] == Y.shape[0]\n",
    "\n",
    "        if self.fit_intercept:  # добавляем свободный коэфициент\n",
    "            X_copy = self._add_intercept(X)\n",
    "        else:\n",
    "            X_copy = X.copy()\n",
    "\n",
    "        d = X_copy.shape[1]\n",
    "        n = Y.shape[0]\n",
    "        result_W = np.ones(d)\n",
    "        \n",
    "        iteration = 0\n",
    "        while iteration < self.max_iter:\n",
    "            iteration += 1\n",
    "            indexes = np.random.randint(0, n, self.batch_size)\n",
    "            if self.fit_intercept:\n",
    "                to_sum = self._grad_fit_int(X_copy[indexes], Y[indexes], result_W, self.alpha)\n",
    "            else:\n",
    "                to_sum = self._grad(X_copy[indexes], Y[indexes], result_W, self.alpha)\n",
    "            result_W = result_W + self.lr * n * to_sum / self.batch_size\n",
    "\n",
    "        self.coef_ = result_W[:-1] if self.fit_intercept else result_W  # коэффициенты модели\n",
    "        self.intercept_ = result_W[-1] if self.fit_intercept else 0 # свободный коэффициент\n",
    "        self.weights = result_W\n",
    "        #print(self.weights.shape[0])\n",
    "        return self\n",
    "\n",
    "    def predict(self, X):\n",
    "        '''\n",
    "        Применяет обученную модель к данным \n",
    "        и возвращает точечное предсказание (оценку класса).\n",
    "\n",
    "        :param X: матрица признаков\n",
    "        :return: предсказание с размерностью (n_test, )\n",
    "        '''\n",
    "\n",
    "        if self.fit_intercept:\n",
    "            X_copy = self._add_intercept(X)\n",
    "        else:\n",
    "            X_copy = X.copy()\n",
    "\n",
    "        assert X_copy.shape[1] == self.weights.shape[0]\n",
    "\n",
    "        proba = self._sigmoid(X_copy.dot(self.weights))\n",
    "        predictions = 1 * (proba > 0.5)\n",
    "\n",
    "        return predictions\n",
    "\n",
    "    def predict_proba(self, X):\n",
    "        '''\n",
    "        Применяет обученную модель к данным\n",
    "        и возвращает предсказание вероятности классов 0 и 1.\n",
    "\n",
    "        :param X: матрица признаков\n",
    "        :return: вероятности предсказания с размерностью (n_test, 2)\n",
    "        '''\n",
    "\n",
    "        if self.fit_intercept:\n",
    "            X_copy = self._add_intercept(X)\n",
    "        else:\n",
    "            X_copy = X.copy()\n",
    "\n",
    "        assert X_copy.shape[1] == self.weights.shape[0]\n",
    "\n",
    "        prob_predictions = _sigmoid(X_copy.dot(self.weights))\n",
    "\n",
    "        return prob_predictions"
   ]
  },
  {
   "cell_type": "markdown",
   "id": "rocky-adrian",
   "metadata": {},
   "source": [
    "Рассмотрим игрушечный датасет на $30$ признаков `load_breast_cancer` из библиотеки `sklearn`. Это относительно простой для бинарной классификации датасет по диагностике рака молочной железы."
   ]
  },
  {
   "cell_type": "markdown",
   "id": "organized-request",
   "metadata": {
    "colab_type": "text",
    "id": "HHPTpzcWhv_W"
   },
   "source": [
    "Ради интереса можно прочитать описание признаков."
   ]
  },
  {
   "cell_type": "code",
   "execution_count": 3,
   "id": "anonymous-raising",
   "metadata": {
    "ExecuteTime": {
     "end_time": "2022-10-15T12:49:38.524862Z",
     "start_time": "2022-10-15T12:49:38.234740Z"
    },
    "colab": {
     "base_uri": "https://localhost:8080/",
     "height": 372
    },
    "colab_type": "code",
    "id": "uUMbGPj-Fgfi",
    "outputId": "9b6b8f4b-d90a-42d7-d6d7-880c5853a33c"
   },
   "outputs": [
    {
     "data": {
      "text/plain": [
       "['    :Attribute Information:',\n",
       " '        - radius (mean of distances from center to points on the perimeter)',\n",
       " '        - texture (standard deviation of gray-scale values)',\n",
       " '        - perimeter',\n",
       " '        - area',\n",
       " '        - smoothness (local variation in radius lengths)',\n",
       " '        - compactness (perimeter^2 / area - 1.0)',\n",
       " '        - concavity (severity of concave portions of the contour)',\n",
       " '        - concave points (number of concave portions of the contour)',\n",
       " '        - symmetry',\n",
       " '        - fractal dimension (\"coastline approximation\" - 1)',\n",
       " '',\n",
       " '        The mean, standard error, and \"worst\" or largest (mean of the three',\n",
       " '        worst/largest values) of these features were computed for each image,',\n",
       " '        resulting in 30 features.  For instance, field 0 is Mean Radius, field',\n",
       " '        10 is Radius SE, field 20 is Worst Radius.',\n",
       " '',\n",
       " '        - class:',\n",
       " '                - WDBC-Malignant',\n",
       " '                - WDBC-Benign']"
      ]
     },
     "execution_count": 3,
     "metadata": {},
     "output_type": "execute_result"
    }
   ],
   "source": [
    "dataset = load_breast_cancer()\n",
    "dataset['DESCR'].split('\\n')[11:31]"
   ]
  },
  {
   "cell_type": "markdown",
   "id": "dental-intersection",
   "metadata": {
    "colab_type": "text",
    "id": "JgaXPncW-Gab"
   },
   "source": [
    "Разделим нашу выборку на обучающую и тестовую:"
   ]
  },
  {
   "cell_type": "code",
   "execution_count": 4,
   "id": "otherwise-savage",
   "metadata": {
    "ExecuteTime": {
     "end_time": "2022-10-15T12:49:45.726082Z",
     "start_time": "2022-10-15T12:49:45.673895Z"
    },
    "colab": {
     "base_uri": "https://localhost:8080/",
     "height": 34
    },
    "colab_type": "code",
    "id": "WEn6HImRc8zJ",
    "outputId": "9c25a5a2-4ea6-4e33-c9be-b780470fbbbb"
   },
   "outputs": [
    {
     "data": {
      "text/plain": [
       "((455, 30), (114, 30), (455,), (114,))"
      ]
     },
     "execution_count": 4,
     "metadata": {},
     "output_type": "execute_result"
    }
   ],
   "source": [
    "X, Y = dataset['data'], dataset['target']\n",
    "\n",
    "X_train, X_test, Y_train, Y_test = train_test_split(\n",
    "    X, Y, test_size=0.2, random_state=42\n",
    ")\n",
    "X_train.shape, X_test.shape, Y_train.shape, Y_test.shape"
   ]
  },
  {
   "cell_type": "markdown",
   "id": "expired-process",
   "metadata": {
    "colab_type": "text",
    "id": "l8jzwZUCPB_l"
   },
   "source": [
    "При использовании регуляризации данные необходимо нормализовать. Воспользуемся для этого классом `StandardScaler` из библиотеки `sklearn`. "
   ]
  },
  {
   "cell_type": "code",
   "execution_count": 5,
   "id": "backed-substance",
   "metadata": {
    "ExecuteTime": {
     "end_time": "2022-10-15T12:49:50.954475Z",
     "start_time": "2022-10-15T12:49:50.942226Z"
    },
    "colab": {},
    "colab_type": "code",
    "id": "oNAqhHbZPBvb"
   },
   "outputs": [],
   "source": [
    "scaler = StandardScaler()"
   ]
  },
  {
   "cell_type": "markdown",
   "id": "healthy-break",
   "metadata": {},
   "source": [
    "Теперь обучите модель логистической регрессии."
   ]
  },
  {
   "cell_type": "code",
   "execution_count": 41,
   "id": "armed-trinidad",
   "metadata": {
    "ExecuteTime": {
     "end_time": "2022-10-15T13:16:43.930913Z",
     "start_time": "2022-10-15T13:16:43.926170Z"
    },
    "colab": {},
    "colab_type": "code",
    "id": "6yZEZS1tnv1q"
   },
   "outputs": [],
   "source": [
    "X_train = scaler.fit_transform(X_train)\n",
    "X_test = scaler.transform(X_test)"
   ]
  },
  {
   "cell_type": "code",
   "execution_count": 42,
   "id": "0ec9ba0c",
   "metadata": {
    "ExecuteTime": {
     "end_time": "2022-10-15T13:16:50.090824Z",
     "start_time": "2022-10-15T13:16:45.838782Z"
    }
   },
   "outputs": [
    {
     "data": {
      "text/plain": [
       "<__main__.LogisticRegression at 0x7f7c97100340>"
      ]
     },
     "execution_count": 42,
     "metadata": {},
     "output_type": "execute_result"
    }
   ],
   "source": [
    "log_reg = LogisticRegression()\n",
    "log_reg.fit(X_train, Y_train)"
   ]
  },
  {
   "cell_type": "code",
   "execution_count": 43,
   "id": "dfe49128",
   "metadata": {
    "ExecuteTime": {
     "end_time": "2022-10-15T13:16:50.098045Z",
     "start_time": "2022-10-15T13:16:50.093915Z"
    }
   },
   "outputs": [],
   "source": [
    "Y_predict = log_reg.predict(X_test)"
   ]
  },
  {
   "cell_type": "code",
   "execution_count": 54,
   "id": "27b8b5c6",
   "metadata": {
    "ExecuteTime": {
     "end_time": "2022-10-15T14:35:39.388095Z",
     "start_time": "2022-10-15T14:35:39.372772Z"
    }
   },
   "outputs": [
    {
     "name": "stdout",
     "output_type": "stream",
     "text": [
      "TN = 35\n",
      "FP = 8\n",
      "FN = 5\n",
      "TP = 66\n"
     ]
    }
   ],
   "source": [
    "matrix = confusion_matrix(Y_test, Y_predict)\n",
    "(TN, FP), (FN, TP) = matrix\n",
    "print(f'TN = {TN}')\n",
    "print(f'FP = {FP}')\n",
    "print(f'FN = {FN}')\n",
    "print(f'TP = {TP}')"
   ]
  },
  {
   "cell_type": "code",
   "execution_count": 55,
   "id": "cd6ab096",
   "metadata": {
    "ExecuteTime": {
     "end_time": "2022-10-15T14:39:28.152099Z",
     "start_time": "2022-10-15T14:39:28.096401Z"
    }
   },
   "outputs": [
    {
     "name": "stdout",
     "output_type": "stream",
     "text": [
      "Recall = 0.930\n"
     ]
    }
   ],
   "source": [
    "recall = recall_score(Y_test, Y_predict)\n",
    "print(f'Recall = {recall:.3f}')"
   ]
  },
  {
   "cell_type": "code",
   "execution_count": 56,
   "id": "805331f4",
   "metadata": {
    "ExecuteTime": {
     "end_time": "2022-10-15T14:41:52.291503Z",
     "start_time": "2022-10-15T14:41:52.285824Z"
    }
   },
   "outputs": [
    {
     "name": "stdout",
     "output_type": "stream",
     "text": [
      "Precision = 0.892\n"
     ]
    }
   ],
   "source": [
    "precision = precision_score(Y_test, Y_predict)\n",
    "print(f'Precision = {precision:.3f}')"
   ]
  },
  {
   "cell_type": "markdown",
   "id": "modified-guidance",
   "metadata": {},
   "source": [
    "На занятии обсуждали, что в нашей постановке задачи при сравнении выиграет модель с меньшим FN, ведь каждая не обнаруженная опухоль может стоить человеческой жизни. Чем меньше ложно отрицательных срабатываний, тем выше Recall модели, а значит разумно взять Recall в качестве целевой метрики. \n",
    "\n",
    "Построить модель с Recall = 1 довольно просто (Как?), но в ней не будет большого смысла, т.к., например, для нашей задачи отправление на доп. обследование может стоить дополнительных средств и времени специалистов, поэтому хотелось, чтобы наша модель имела неплохую точность. Какую метрику можно использовать, чтобы учесть и точность, и полноту?\n",
    "\n",
    "Будем использовать $F_3$-метрику, так как мы хотим учесть и точность, и полноту, но при этом полнота важнее.\n",
    "\n",
    "Выберите и посчитайте целевые метрики для нашей задачи."
   ]
  },
  {
   "cell_type": "code",
   "execution_count": 71,
   "id": "16ae0af6",
   "metadata": {
    "ExecuteTime": {
     "end_time": "2022-10-16T14:34:33.911459Z",
     "start_time": "2022-10-16T14:34:33.858966Z"
    }
   },
   "outputs": [
    {
     "name": "stdout",
     "output_type": "stream",
     "text": [
      "FBeta-score (beta=3): 0.926\n"
     ]
    }
   ],
   "source": [
    "fbeta = fbeta_score(Y_test, Y_predict, beta=3)\n",
    "print(f'FBeta-score (beta=3): {fbeta:.3f}')"
   ]
  },
  {
   "cell_type": "markdown",
   "id": "effective-palestinian",
   "metadata": {
    "colab_type": "text",
    "id": "mE0rZ7vPCH_S"
   },
   "source": [
    "Рассмотрите как влияет размер шага (`learning rate`) на качество модели. Обучите каждую модель одинаковое число итераций (например, 10000), а затем посчитайте качество. Сделайте выводы."
   ]
  },
  {
   "cell_type": "code",
   "execution_count": 72,
   "id": "automotive-partner",
   "metadata": {
    "ExecuteTime": {
     "end_time": "2022-10-16T14:34:40.123733Z",
     "start_time": "2022-10-16T14:34:40.098013Z"
    },
    "colab": {},
    "colab_type": "code",
    "id": "UL0NzUTDbuxW"
   },
   "outputs": [],
   "source": [
    "lrs = [1e-5, 1e-4, 1e-3, 1e-2, 0.1, 0.2, 0.3, 0.5, 0.7, 1, 2, 5, 10]"
   ]
  },
  {
   "cell_type": "code",
   "execution_count": 73,
   "id": "cooked-spring",
   "metadata": {
    "ExecuteTime": {
     "end_time": "2022-10-16T14:34:52.380683Z",
     "start_time": "2022-10-16T14:34:46.317881Z"
    }
   },
   "outputs": [
    {
     "name": "stdout",
     "output_type": "stream",
     "text": [
      "1e-05: 0.987\n",
      "0.0001: 0.976\n",
      "0.001: 0.978\n",
      "0.01: 0.979\n",
      "0.1: 0.852\n",
      "0.2: 0.915\n",
      "0.3: 0.914\n",
      "0.5: 0.914\n",
      "0.7: 0.900\n",
      "1: 0.915\n",
      "2: 0.914\n",
      "5: 0.962\n",
      "10: 0.914\n"
     ]
    }
   ],
   "source": [
    "for lr in lrs:\n",
    "    clf = LogisticRegression(lr=lr, max_iter=1e4)\n",
    "    clf.fit(X_train, Y_train)\n",
    "    print(f'{lr}: {fbeta_score(Y_test, clf.predict(X_test), beta=3):.3f}')"
   ]
  },
  {
   "cell_type": "markdown",
   "id": "generic-madness",
   "metadata": {
    "colab_type": "text",
    "id": "UQy0zIrcClfm"
   },
   "source": [
    "Рассмотрите несколько моделей, в которых установите не менее 5-ти различных коэффициентов регуляризации, а также модель без регуляризатора. Сравните, влияет ли наличие регуляризации на качество, сделайте выводы. Под качеством подразумевается значение какой-либо выбранной вами метрики качества классификации."
   ]
  },
  {
   "cell_type": "code",
   "execution_count": 74,
   "id": "convertible-edmonton",
   "metadata": {
    "ExecuteTime": {
     "end_time": "2022-10-16T14:35:57.321269Z",
     "start_time": "2022-10-16T14:35:07.955938Z"
    }
   },
   "outputs": [],
   "source": [
    "# массивы для результатов\n",
    "fbeta_values = []\n",
    "\n",
    "k = 10  # будем усреднять результаты по нескольким запускам\n",
    "coefs = [0]\n",
    "coefs.extend(np.logspace(-5, 3, 9))  # сетка параметров регуляризации\n",
    "\n",
    "for coef in coefs:\n",
    "    fbeta_values_tmp = []\n",
    "\n",
    "    # k раз обучаем модель и считаем среднее целевых метрик.\n",
    "    for i in range(k):\n",
    "        clf = LogisticRegression(alpha=coef, max_iter=1e4)\n",
    "        clf.fit(X_train, Y_train)\n",
    "\n",
    "        fbeta_values_tmp.append(\n",
    "            fbeta_score(Y_test, clf.predict(X_test), beta=3)\n",
    "        )\n",
    "\n",
    "    fbeta_values.append(np.mean(fbeta_values_tmp))"
   ]
  },
  {
   "cell_type": "code",
   "execution_count": 76,
   "id": "51666432",
   "metadata": {
    "ExecuteTime": {
     "end_time": "2022-10-16T14:36:00.749868Z",
     "start_time": "2022-10-16T14:36:00.373410Z"
    }
   },
   "outputs": [
    {
     "data": {
      "image/png": "[encoded data removed]",
      "text/plain": [
       "<Figure size 1200x1200 with 1 Axes>"
      ]
     },
     "metadata": {},
     "output_type": "display_data"
    }
   ],
   "source": [
    "plt.figure(figsize=(12, 12))\n",
    "\n",
    "plt.subplot(2, 1, 1)\n",
    "plt.title('Зависимость F_3\\nот коэфициента регуляризации')\n",
    "plt.plot(fbeta_values, lw=4)\n",
    "plt.xlabel('Коэфициент регуляризации')\n",
    "plt.ylabel('F_3')\n",
    "plt.xticks(ticks=np.arange(len(coefs)), labels=coefs)\n",
    "plt.grid()\n",
    "\n",
    "plt.tight_layout()\n",
    "plt.grid()\n",
    "plt.show()"
   ]
  },
  {
   "cell_type": "markdown",
   "id": "5da2d85a",
   "metadata": {},
   "source": [
    "Видно, что коэффициент регуляризации, больший $10^{-3}$ ухудшает показатели $F_3$-метрики."
   ]
  },
  {
   "cell_type": "markdown",
   "id": "coordinate-expense",
   "metadata": {},
   "source": [
    "Выберите объект из тестовой выборки и постройте для него доверительный интервал для предсказания вероятности. Какие условия нужно проверить? "
   ]
  },
  {
   "cell_type": "code",
   "execution_count": null,
   "id": "assisted-rouge",
   "metadata": {},
   "outputs": [],
   "source": [
    "<...>"
   ]
  },
  {
   "cell_type": "markdown",
   "id": "destroyed-syntax",
   "metadata": {},
   "source": [
    "**Вывод:** <...>"
   ]
  }
 ],
 "metadata": {
  "kernelspec": {
   "display_name": "Python 3 (ipykernel)",
   "language": "python",
   "name": "python3"
  },
  "language_info": {
   "codemirror_mode": {
    "name": "ipython",
    "version": 3
   },
   "file_extension": ".py",
   "mimetype": "text/x-python",
   "name": "python",
   "nbconvert_exporter": "python",
   "pygments_lexer": "ipython3",
   "version": "3.10.4"
  },
  "varInspector": {
   "cols": {
    "lenName": 16,
    "lenType": 16,
    "lenVar": 40
   },
   "kernels_config": {
    "python": {
     "delete_cmd_postfix": "",
     "delete_cmd_prefix": "del ",
     "library": "var_list.py",
     "varRefreshCmd": "print(var_dic_list())"
    },
    "r": {
     "delete_cmd_postfix": ") ",
     "delete_cmd_prefix": "rm(",
     "library": "var_list.r",
     "varRefreshCmd": "cat(var_dic_list()) "
    }
   },
   "types_to_exclude": [
    "module",
    "function",
    "builtin_function_or_method",
    "instance",
    "_Feature"
   ],
   "window_display": false
  }
 },
 "nbformat": 4,
 "nbformat_minor": 5
}
